{
 "cells": [
  {
   "cell_type": "markdown",
   "metadata": {
    "id": "a9HYUdCUsrKl"
   },
   "source": [
    "<h2>Soal 1: Comparison Operator</h2>\n",
    "\n",
    "- Berikan contoh comparison dari tipe data string\n",
    "- Berikan contoh comparison dari tipe data boolean\n",
    "- Berikan contoh comparison dari tipe data integer"
   ]
  },
  {
   "cell_type": "code",
   "execution_count": 1,
   "metadata": {
    "id": "fUFkFOt0afUL"
   },
   "outputs": [
    {
     "name": "stdout",
     "output_type": "stream",
     "text": [
      "False\n",
      "True\n",
      "False\n"
     ]
    }
   ],
   "source": [
    "print('halo'=='hai')\n",
    "print(False==False)\n",
    "print(4<2)"
   ]
  },
  {
   "cell_type": "markdown",
   "metadata": {
    "id": "XeywALwwhZn7"
   },
   "source": [
    "\n",
    "\n",
    "---\n",
    "\n",
    "\n",
    "\n",
    "---\n",
    "\n"
   ]
  },
  {
   "cell_type": "markdown",
   "metadata": {
    "id": "IbNoZvVssrK5"
   },
   "source": [
    "<h2>Soal 2: Boolean Comparison</h2>\n",
    "\n",
    "- Berikan contoh gabungan multiple comparison menggunkan Boolean Comparisin 'and'\n",
    "- Berikan contoh gabungan multiple comparison menggunkan Boolean Comparisin 'or'\n",
    "- Berikan contoh gabungan multiple comparison menggunkan Boolean Comparisin 'not'"
   ]
  },
  {
   "cell_type": "code",
   "execution_count": 3,
   "metadata": {
    "id": "M1mwGoegaiET"
   },
   "outputs": [
    {
     "name": "stdout",
     "output_type": "stream",
     "text": [
      "True\n",
      "False\n",
      "True\n"
     ]
    }
   ],
   "source": [
    "print('hai'=='hai' and 27<30)\n",
    "print(True==False or 50!=50)\n",
    "print(not True!=True)"
   ]
  },
  {
   "cell_type": "markdown",
   "metadata": {
    "id": "Y3ejsyvqhciI"
   },
   "source": [
    "\n",
    "\n",
    "---\n",
    "\n",
    "\n",
    "\n",
    "---\n",
    "\n"
   ]
  },
  {
   "cell_type": "markdown",
   "metadata": {
    "id": "Yp_g_sPMsrLH"
   },
   "source": [
    "<h2>Soal 3: If-Else Statement</h2>\n",
    "\n",
    "Lengkapi kode untuk menghasilkan suatu output yang di harapkan\n",
    "\n",
    "- Bualah sebuah if-else statement yang dimana akan mem-print 'High' jika grade adalah 'A' dan price lebih dari 100000, kemudian mem-print 'Medium' jika grade adalah 'A' dan price lebih dari 50000 dan memprint 'low' jika grade adalah 'A' dan price lebih kecil dan sama dengan 50000."
   ]
  },
  {
   "cell_type": "code",
   "execution_count": 7,
   "metadata": {
    "id": "2PPsaN50c9ew"
   },
   "outputs": [
    {
     "name": "stdout",
     "output_type": "stream",
     "text": [
      "Ketik grade:A\n",
      "Ketik price:75000\n",
      "Medium\n"
     ]
    }
   ],
   "source": [
    "#code here\n",
    "\n",
    "grade=input(\"Ketik grade:\")\n",
    "price=int(input(\"Ketik price:\"))\n",
    "\n",
    "if grade!='A':\n",
    "    print('Grade tidak dikenal')\n",
    "elif price>100000:\n",
    "    print('High')\n",
    "elif price>50000:\n",
    "    print('Medium')\n",
    "else: print('low')"
   ]
  },
  {
   "cell_type": "markdown",
   "metadata": {
    "id": "FkSxKlMNhfzn"
   },
   "source": [
    "\n",
    "\n",
    "---\n",
    "\n",
    "\n",
    "\n",
    "---\n",
    "\n"
   ]
  },
  {
   "cell_type": "markdown",
   "metadata": {
    "id": "gf0D64xOsrLl"
   },
   "source": [
    "<h2>Soal 4: While Loop dan For Loop</h2>\n",
    "\n",
    "- Apa perbedaan while loop dan for loop?\n",
    "- Berikan contoh sederhana cara menggunakan while loop dan for loop"
   ]
  },
  {
   "cell_type": "markdown",
   "metadata": {
    "id": "cSrE7RbvdXWe"
   },
   "source": [
    "jawaban perbedaan: **While loop** menggunakan kondisi dimana apabila kondisi telah tercapai, maka _loop_ akan berhenti. Sebaliknya **for loop** menggunakan jumlah elemen dalam iterasi, _for loop_ akan berakhir ketika semua elemen dalam iterasi sudah dilewati.\n"
   ]
  },
  {
   "cell_type": "code",
   "execution_count": 13,
   "metadata": {
    "id": "RSf-gg-rdY35"
   },
   "outputs": [
    {
     "name": "stdout",
     "output_type": "stream",
     "text": [
      "WHILE LOOP\n",
      "PKS\n",
      "Digital\n",
      "school\n",
      "FOR LOOP\n",
      "PKS\n",
      "Digital\n",
      "school\n",
      "hebat\n",
      "dan\n",
      "seru!\n"
     ]
    }
   ],
   "source": [
    "# jawaban contoh\n",
    "\n",
    "x=['PKS', 'Digital', 'school', 'hebat', 'dan', 'seru!']\n",
    "\n",
    "i=0\n",
    "print('WHILE LOOP')\n",
    "while len(x[i])!=5:\n",
    "    print(x[i])\n",
    "    i+=1\n",
    "\n",
    "print('FOR LOOP')\n",
    "for i in x:\n",
    "    print(i)"
   ]
  },
  {
   "cell_type": "markdown",
   "metadata": {
    "id": "fZQpBGCgsrLz"
   },
   "source": [
    "<h2>Soal 5: While Loop</h2>\n",
    "    \n",
    "Buatlah sebuah code while loop sebagai berikut :\n",
    "- Buatlah suatu fungsi yang menerima satu input nilai numerik\n",
    "- Dalam fungsi, Buat sebuah while-loop dengan melakukan comparasi terhadap inputan tersebut, dimana looping/iterasi terus berjalan apabila nilai inputan tidak sama dengan 0\n",
    "- Dalam setiap iterasi update nilai variable inputan itu, jika input lebih dari 0, maka kurangi variabel tersebut sebesar 1, selain itu tambahkan 1\n",
    "- print nilai variable input dalam setiap awal iterasi"
   ]
  },
  {
   "cell_type": "code",
   "execution_count": 23,
   "metadata": {},
   "outputs": [
    {
     "name": "stdout",
     "output_type": "stream",
     "text": [
      "a = -10\n",
      "-10\n",
      "-9\n",
      "-8\n",
      "-7\n",
      "-6\n",
      "-5\n",
      "-4\n",
      "-3\n",
      "-2\n",
      "-1\n",
      "b = 10\n",
      "10\n",
      "9\n",
      "8\n",
      "7\n",
      "6\n",
      "5\n",
      "4\n",
      "3\n",
      "2\n",
      "1\n"
     ]
    }
   ],
   "source": [
    "a = -10\n",
    "b =  10\n",
    "\n",
    "def fungsi_while(angka):\n",
    "    while angka!=0:\n",
    "        print(angka)\n",
    "        angka+=-1 if angka>0 else 1\n",
    "\n",
    "\n",
    "\n",
    "print('a =',a)\n",
    "fungsi_while(a)\n",
    "print('b =',b)\n",
    "fungsi_while(b)"
   ]
  },
  {
   "cell_type": "markdown",
   "metadata": {
    "id": "lKzngRrlsrMD"
   },
   "source": [
    "Expected Output:\n",
    "\n",
    "jika a = 10                           \n",
    "\n",
    "10                                   \n",
    "9                      \n",
    "8   \n",
    "7   \n",
    "6  \n",
    "5  \n",
    "4  \n",
    "3  \n",
    "2  \n",
    "1\n",
    "\n",
    "jika a = -10\n",
    "\n",
    "-10                                   \n",
    "-9                        \n",
    "-8  \n",
    "-7  \n",
    "-6  \n",
    "-5  \n",
    "-4  \n",
    "-3  \n",
    "-2  \n",
    "-1\n"
   ]
  }
 ],
 "metadata": {
  "colab": {
   "collapsed_sections": [],
   "name": " Tugas Hari 4.ipynb",
   "provenance": []
  },
  "kernelspec": {
   "display_name": "Python 3 (ipykernel)",
   "language": "python",
   "name": "python3"
  },
  "language_info": {
   "codemirror_mode": {
    "name": "ipython",
    "version": 3
   },
   "file_extension": ".py",
   "mimetype": "text/x-python",
   "name": "python",
   "nbconvert_exporter": "python",
   "pygments_lexer": "ipython3",
   "version": "3.10.11"
  }
 },
 "nbformat": 4,
 "nbformat_minor": 1
}
