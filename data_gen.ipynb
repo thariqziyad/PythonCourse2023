{
  "nbformat": 4,
  "nbformat_minor": 0,
  "metadata": {
    "colab": {
      "provenance": [],
      "authorship_tag": "ABX9TyPLP/ba8vqwRAlT70PlFjMs",
      "include_colab_link": true
    },
    "kernelspec": {
      "name": "python3",
      "display_name": "Python 3"
    },
    "language_info": {
      "name": "python"
    }
  },
  "cells": [
    {
      "cell_type": "markdown",
      "metadata": {
        "id": "view-in-github",
        "colab_type": "text"
      },
      "source": [
        "<a href=\"https://colab.research.google.com/github/thariqziyad/PythonCourse2023/blob/main/data_gen.ipynb\" target=\"_parent\"><img src=\"https://colab.research.google.com/assets/colab-badge.svg\" alt=\"Open In Colab\"/></a>"
      ]
    },
    {
      "cell_type": "markdown",
      "source": [
        "Importing packages"
      ],
      "metadata": {
        "id": "o13zeJnDA3YR"
      }
    },
    {
      "cell_type": "code",
      "execution_count": 48,
      "metadata": {
        "id": "__jNHh3RAqDd"
      },
      "outputs": [],
      "source": [
        "import pandas as pd\n",
        "import numpy as np\n",
        "from scipy.stats import truncnorm as t_norm"
      ]
    },
    {
      "cell_type": "code",
      "source": [
        "a_trunc = 1\n",
        "b_trunc = 4\n",
        "mu = 3.9583\n",
        "std = 0.194\n",
        "a, b = (a_trunc - mu) / std, (b_trunc - mu) / std\n",
        "\n",
        "mu_dif = 5\n",
        "std_dif = 5\n",
        "iter = 0\n",
        "\n",
        "#init_num = t_norm.rvs(a, b, loc=mu, scale=std,size=200)\n",
        "while mu_dif > 0.005 or std_dif > 0.005:\n",
        "  # mu_init = np.mean(init_num)\n",
        "  # std_init = np.std(init_num)\n",
        "  random_numbers = t_norm.rvs(a, b, loc=mu, scale=std,size=200)\n",
        "  integers = np.round(random_numbers).astype(int)\n",
        "  mu_dif = abs(np.mean(integers)-mu)\n",
        "  # mu_difi = abs(mu_init-mu)\n",
        "  std_dif = abs(np.std(integers)-std)\n",
        "  # std_difi = abs(std_init-std)\n",
        "  # if mu_dif<mu_difi or std_dif<std_difi:\n",
        "  #   fin_num=np.round(init_num).astype(int)\n",
        "  # else:\n",
        "  #   fin_num=init_num\n",
        "  # init_num = random_numbers\n",
        "  iter += 1\n",
        "  if iter > 10000:\n",
        "    break\n",
        "\n",
        "# std_b = np.std(random_numbers)\n",
        "# mu_b = np.mean(random_numbers)\n",
        "# fin_num = loc + ((random_numbers-mu_b)*scale/std_b)\n",
        "\n",
        "\n",
        "\n",
        "fin = integers\n",
        "\n",
        "print(\"Desired Standard Deviation:\", std)\n",
        "print(\"Actual Standard Deviation of Generated Integers:\", np.std(fin))\n",
        "print(\"Standard Deviation difference:\",abs(np.std(fin)-std))\n",
        "print(\"Desired Mean:\", mu)\n",
        "print(\"Actual Mean of Generated Integers:\", np.mean(fin))\n",
        "print(\"Mean difference:\",abs(np.mean(fin)-mu))\n",
        "print(fin.max(),fin.min())\n",
        "print(set(fin))\n",
        "print(\"iter:\",iter)"
      ],
      "metadata": {
        "colab": {
          "base_uri": "https://localhost:8080/"
        },
        "id": "7MDiTXbmjC4X",
        "outputId": "a375e624-8872-4f4c-9a57-66c39b4e0cf5"
      },
      "execution_count": 201,
      "outputs": [
        {
          "output_type": "stream",
          "name": "stdout",
          "text": [
            "Desired Standard Deviation: 0.194\n",
            "Actual Standard Deviation of Generated Integers: 0.19595917942265428\n",
            "Standard Deviation difference: 0.001959179422654278\n",
            "Desired Mean: 3.9583\n",
            "Actual Mean of Generated Integers: 3.96\n",
            "Mean difference: 0.0017000000000000348\n",
            "4 3\n",
            "{3, 4}\n",
            "iter: 10\n"
          ]
        }
      ]
    }
  ]
}