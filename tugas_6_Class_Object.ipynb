{
 "cells": [
  {
   "cell_type": "markdown",
   "metadata": {
    "id": "X_-RZ45njo1n"
   },
   "source": [
    "1. Buatlah sebuah class dengan nama class = Kendaraan,  tanpa variabel, attribute dan methods"
   ]
  },
  {
   "cell_type": "code",
   "execution_count": 10,
   "metadata": {
    "id": "2_SV-dIsjo1u"
   },
   "outputs": [],
   "source": [
    "#kerjakan soal 1 pada sel ini\n",
    "\n",
    "class kendaraan:\n",
    "    pass"
   ]
  },
  {
   "cell_type": "markdown",
   "metadata": {
    "id": "Sb_aVB-Ujo1v"
   },
   "source": [
    "2. Buatlah sebuah class dengan nama class = Kendaraan, yang memiliki atribut instance kecepatan_maksimum dan jarak_tempuh"
   ]
  },
  {
   "cell_type": "code",
   "execution_count": 11,
   "metadata": {
    "id": "2kEaZBsPjo1w"
   },
   "outputs": [
    {
     "name": "stdout",
     "output_type": "stream",
     "text": [
      "250 15\n"
     ]
    }
   ],
   "source": [
    "#kerjakan soal no 2 pada sel ini\n",
    "\n",
    "#contoh pemanggilan\n",
    "#model_1 = Kendaraan(240,10)\n",
    "#print(model_1.kecepatan_maksimum, model_1.jarak_tempuh)\n",
    "\n",
    "#output\n",
    "#240 10\n",
    "\n",
    "class kendaraan:\n",
    "    def __init__(self,maks,jarak):\n",
    "        self.kecepatan_maksimum = maks\n",
    "        self.jarak_tempuh = jarak\n",
    "        \n",
    "model_1 = kendaraan(250,15)\n",
    "print(model_1.kecepatan_maksimum, model_1.jarak_tempuh)"
   ]
  },
  {
   "cell_type": "markdown",
   "metadata": {
    "id": "mQcUuE-Mjo1x"
   },
   "source": [
    "3. Buatlah sebuah class dengan nama Tesla yang bersifat inheritance/turunan dari class mobil"
   ]
  },
  {
   "cell_type": "code",
   "execution_count": 12,
   "metadata": {
    "id": "np3XdRV6jo1x",
    "outputId": "f03b11e9-e570-448c-cb3d-cd2ae3415fb4"
   },
   "outputs": [
    {
     "name": "stdout",
     "output_type": "stream",
     "text": [
      "Nama Mobil: model x2, Warna: hitam, Bahan Bakar: hybrid\n"
     ]
    }
   ],
   "source": [
    "#kerjakan soal no 3 pada sel ini\n",
    "\n",
    "class Mobil:\n",
    "    def __init__(self, nama, warna, bahan_bakar):\n",
    "        self.nama = nama\n",
    "        self.warna = warna\n",
    "        self.bahan_bakar = bahan_bakar\n",
    "        \n",
    "class Tesla(Mobil):\n",
    "    pass\n",
    "\n",
    "# contoh pemanggilan\n",
    "model_x = Tesla(\"model x2\",\"hitam\",\"hybrid\")\n",
    "print(f\"Nama Mobil: {model_x.nama}, Warna: {model_x.warna}, Bahan Bakar: {model_x.bahan_bakar}\")\n",
    "\n",
    "# output\n",
    "# Nama Mobil: model x, Warna: perak, Bahan Bakar: listrik\n"
   ]
  },
  {
   "cell_type": "markdown",
   "metadata": {
    "id": "Dks9wPRZjo1z"
   },
   "source": [
    "4. Buatlah sebuah class dengan ketentuan:\n",
    "    - memiliki nama Aritmatika\n",
    "    - instance atribut/input untuk class adalah dua integer\n",
    "    - memiliki metode yang bernama add yang menampilkan hasil penjumlahan instance atribut/inputan class"
   ]
  },
  {
   "cell_type": "code",
   "execution_count": 15,
   "metadata": {
    "id": "nyZrczeojo1z"
   },
   "outputs": [
    {
     "data": {
      "text/plain": [
       "12"
      ]
     },
     "execution_count": 15,
     "metadata": {},
     "output_type": "execute_result"
    }
   ],
   "source": [
    "#kerjakan soal no 4 pada sel ini\n",
    "\n",
    "class aritmatika:\n",
    "    def __init__(self,x,y):\n",
    "        self.x = x\n",
    "        self.y = y\n",
    "    \n",
    "    def add(self):\n",
    "        return self.x+self.y\n",
    "\n",
    "# contoh pemanggilan\n",
    "# model_hitung = Aritmatika(10,4)\n",
    "# model_hitung.add()\n",
    "\n",
    "# output\n",
    "# 14\n",
    "\n",
    "contoh_hitung = aritmatika(4,8)\n",
    "contoh_hitung.add()"
   ]
  },
  {
   "cell_type": "code",
   "execution_count": null,
   "metadata": {},
   "outputs": [],
   "source": []
  }
 ],
 "metadata": {
  "colab": {
   "provenance": []
  },
  "interpreter": {
   "hash": "b02d93efda564da1915d42b0288c26f05ac833e7645184a564f32e638d57cc3e"
  },
  "kernelspec": {
   "display_name": "Python 3 (ipykernel)",
   "language": "python",
   "name": "python3"
  },
  "language_info": {
   "codemirror_mode": {
    "name": "ipython",
    "version": 3
   },
   "file_extension": ".py",
   "mimetype": "text/x-python",
   "name": "python",
   "nbconvert_exporter": "python",
   "pygments_lexer": "ipython3",
   "version": "3.10.11"
  }
 },
 "nbformat": 4,
 "nbformat_minor": 1
}
