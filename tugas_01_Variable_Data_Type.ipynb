{
  "cells": [
    {
      "cell_type": "markdown",
      "metadata": {
        "id": "K1wTXjGToaGZ"
      },
      "source": [
        "1. Buatlah 3 variabel yang masing-masing berisi\n",
        "    \n",
        "    a. Nama depan (string)\n",
        "    \n",
        "    b. Umur (integer)\n",
        "    \n",
        "    c. kota tinggal (string)"
      ]
    },
    {
      "cell_type": "code",
      "execution_count": 2,
      "metadata": {
        "id": "tU7xJPYRoaGh"
      },
      "outputs": [],
      "source": [
        "nama= \"Ziyad\"\n",
        "umur= 27\n",
        "kota= \"Tangerang Selatan\""
      ]
    },
    {
      "cell_type": "markdown",
      "metadata": {
        "id": "b_AJjWwQoaGj"
      },
      "source": [
        "2. Tampilkan semua variabel pada soal no 1 menjadi sebuah kalimat dengan menggunakan metode print()"
      ]
    },
    {
      "cell_type": "code",
      "execution_count": 3,
      "metadata": {
        "colab": {
          "base_uri": "https://localhost:8080/"
        },
        "id": "vYFt0AXYoaGj",
        "outputId": "e472d72a-37fa-4dec-ef96-c825a34c291e"
      },
      "outputs": [
        {
          "output_type": "stream",
          "name": "stdout",
          "text": [
            "Halo nama saya Ziyad. Umur saya 27 dan saya tinggal di kota Tangerang Selatan\n"
          ]
        }
      ],
      "source": [
        "print(f'Halo nama saya {nama}. Umur saya {umur} dan saya tinggal di kota {kota}')"
      ]
    },
    {
      "cell_type": "markdown",
      "metadata": {
        "id": "7RbvgigToaGk"
      },
      "source": [
        "3. Dengan menggunakan salah satu string method, ubah kata mangga pada variabel kalimat menjadi apel dan masukkan pada variabel kalimat_2 lalu print variabel kalimat_2"
      ]
    },
    {
      "cell_type": "code",
      "execution_count": null,
      "metadata": {
        "id": "i3Jrjn05oaGl",
        "outputId": "643181a2-0a01-483d-95d9-7cba73383a61"
      },
      "outputs": [
        {
          "name": "stdout",
          "output_type": "stream",
          "text": [
            "Budi menyukai buah apel\n"
          ]
        }
      ],
      "source": [
        "#kerjakan soal no 3 pada bagian sel ini\n",
        "kalimat = 'Budi menyukai buah mangga'\n",
        "\n",
        "kalimat_2 = kalimat.replace('mangga','apel')\n",
        "print(kalimat_2)"
      ]
    }
  ],
  "metadata": {
    "kernelspec": {
      "display_name": "Python 3 (ipykernel)",
      "language": "python",
      "name": "python3"
    },
    "language_info": {
      "codemirror_mode": {
        "name": "ipython",
        "version": 3
      },
      "file_extension": ".py",
      "mimetype": "text/x-python",
      "name": "python",
      "nbconvert_exporter": "python",
      "pygments_lexer": "ipython3",
      "version": "3.10.11"
    },
    "colab": {
      "provenance": []
    }
  },
  "nbformat": 4,
  "nbformat_minor": 0
}
