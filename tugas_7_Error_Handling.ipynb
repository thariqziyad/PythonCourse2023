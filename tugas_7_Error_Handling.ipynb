{
 "cells": [
  {
   "cell_type": "markdown",
   "metadata": {
    "id": "xSKJwb-wf5_d"
   },
   "source": [
    "1. Buatlah sebuah fungsi untuk membaca dan menampilkan keseluruhan file txt dengan\n",
    "input fungsi berupa nama file. "
   ]
  },
  {
   "cell_type": "code",
   "execution_count": 5,
   "metadata": {
    "id": "sDhGp38sf0l6"
   },
   "outputs": [
    {
     "name": "stdout",
     "output_type": "stream",
     "text": [
      "Kata programming mungkin sudah tidak asing lagi di telinga kita. \n",
      "Programming sangat erat kaitannya dengan industri IT. \n",
      "Banyak hal yang telah dihasilkan dari programming yang saat ini sudah jadi konsumsi kita sehari-hari, seperti produk-produk microsoft, facebook, apple dan lain sebagainya.\n"
     ]
    }
   ],
   "source": [
    "def read_txt(fname):\n",
    "    f=open(fname)\n",
    "    print(f.read())\n",
    "\n",
    "\n",
    "#memangil fungsi\n",
    "read_txt('1.txt')\n",
    "#output diharapkan\n",
    "# Kata programming mungkin sudah tidak asing lagi di telinga kita. # Programming sangat erat kaitannya dengan industri IT. # Banyak hal yang telah dihasilkan dari programming yang saat ini sudah jadi konsumsi kita sehari-hari, seperti produk-produk microsoft, facebook, apple dan lain sebagainya. \n",
    "\n"
   ]
  },
  {
   "cell_type": "markdown",
   "metadata": {
    "id": "ECZ-5Qd3gGFT"
   },
   "source": [
    "2. Buatlah sebuah fungsi untuk membaca file json yang disediakan dan mengambil data\n",
    "\"cases\" covid di indonesia. return menjadi satu buah list"
   ]
  },
  {
   "cell_type": "code",
   "execution_count": 32,
   "metadata": {
    "id": "dwRs13G6gaPs"
   },
   "outputs": [
    {
     "name": "stdout",
     "output_type": "stream",
     "text": [
      "[57770, 59394, 60695, 62142, 63749, 64958, 66226, 68079, 70736, 72347, 74018, 75699, 76981, 78572, 80094, 81668, 83130, 84882, 86521, 88214, 89869, 91751, 93657, 95418, 97286, 98778, 100303, 102051, 104432, 106336, 108376, 109936, 111455, 113134, 115056, 116871, 118753, 121226, 123503, 125396, 127083, 128776, 130718, 132816, 135123, 137468, 139549, 141370, 143043, 144945, 147211, 149408, 151498, 153535, 155412, 157859, 160165, 162884, 165887, 169195, 172053, 174796, 177571, 180646, 184268, 187537, 190665, 194109, 196989, 200035, 203342, 207203, 210940, 214746, 218382, 221523, 225030, 228993, 232628, 236519, 240687, 244676, 248852, 252923, 257388, 262022, 266845, 271339, 275213, 278722, 282724, 287008, 291182]\n"
     ]
    }
   ],
   "source": [
    "import json as j\n",
    "\n",
    "def read_covid():\n",
    "    f=open('2.json')\n",
    "    data=j.load(f)\n",
    "    k=[]\n",
    "    for i in data:\n",
    "        k.append(i[\"Cases\"])        \n",
    "    return k\n",
    "\n",
    "cases = read_covid()\n",
    "print(cases)"
   ]
  },
  {
   "cell_type": "code",
   "execution_count": null,
   "metadata": {
    "id": "EIB1yO5Igg3J"
   },
   "outputs": [],
   "source": [
    "'''memanggil fungsi\n",
    "cases = read_covid()\n",
    "print(cases)\n",
    "\n",
    "#output diharapkan\n",
    "[57770,60695, ..., 291182]\n",
    "'''"
   ]
  }
 ],
 "metadata": {
  "colab": {
   "authorship_tag": "ABX9TyOE84kcCQJjY+E0BpiWeEzN",
   "name": "tugas_FileErrorMan.ipynb",
   "provenance": []
  },
  "kernelspec": {
   "display_name": "Python 3 (ipykernel)",
   "language": "python",
   "name": "python3"
  },
  "language_info": {
   "codemirror_mode": {
    "name": "ipython",
    "version": 3
   },
   "file_extension": ".py",
   "mimetype": "text/x-python",
   "name": "python",
   "nbconvert_exporter": "python",
   "pygments_lexer": "ipython3",
   "version": "3.10.11"
  }
 },
 "nbformat": 4,
 "nbformat_minor": 1
}
