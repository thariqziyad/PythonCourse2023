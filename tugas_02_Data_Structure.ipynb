{
 "cells": [
  {
   "cell_type": "markdown",
   "metadata": {
    "id": "KaEDsW5JqSds"
   },
   "source": [
    "1. Lakukan 4 operasi aritmatika pada 2 variabel di bawah (tambah, kurang, kali, bagi), lalu simpan semua hasilnya didalam list dan tampilkan.\n",
    "\n",
    "var_1 = 10\n",
    "\n",
    "var_2 = 2"
   ]
  },
  {
   "cell_type": "code",
   "execution_count": 1,
   "metadata": {
    "id": "MPENGsLFqSd1"
   },
   "outputs": [
    {
     "name": "stdout",
     "output_type": "stream",
     "text": [
      "[12, 8, 20, 5]\n"
     ]
    }
   ],
   "source": [
    "#kerjakan soal no 1 pada sel ini\n",
    "#keluaran yang diharapkan : [12,8,20,5]\n",
    "a = 10\n",
    "b = 2\n",
    "\n",
    "mylist=[a+b, a-b, a*b, a//b]\n",
    "print(mylist)"
   ]
  },
  {
   "cell_type": "markdown",
   "metadata": {
    "id": "wXKjNfn-qSd3"
   },
   "source": [
    "2. Dengan menggunakan index keluarkan nilai dari dua tuple di bawah\n",
    "\n",
    "a. ('Budi', 'Rani', 'Indah', 'Ilham')\n",
    "\n",
    "b. (20, 18, 22, 27)\n",
    "\n",
    "dari tuple a keluarkan Rani, dan dari tuple B keluarkan 22. lalu tampilkan dengan print() sesuai format yang diharapkan"
   ]
  },
  {
   "cell_type": "code",
   "execution_count": 2,
   "metadata": {
    "id": "J-OcN_GMqSd5"
   },
   "outputs": [
    {
     "name": "stdout",
     "output_type": "stream",
     "text": [
      "Rani adalah mahasiswi yang berusia 22\n"
     ]
    }
   ],
   "source": [
    "#kerjakan soal no 2 pada sel ini\n",
    "#keluaran yang diharapkan: \"Rani adalah mahasiswi yang berusia 22 tahun\"\n",
    "name_list = ('Budi', 'Rani', 'Indah', 'Ilham')\n",
    "age_list = (20, 18, 22, 27)\n",
    "\n",
    "nama = name_list[1]\n",
    "umur = age_list[2]\n",
    "\n",
    "print(f'{nama} adalah mahasiswi yang berusia {umur}')"
   ]
  },
  {
   "cell_type": "markdown",
   "metadata": {
    "id": "pfNNOzGqqSd6"
   },
   "source": [
    "3. Cari kota asal dari user dengan data di bawah. Cari nilai uniknya/jangan sampai ada pengulangan.\n",
    "\n",
    "data_dict = {'Rudi':'bandung', 'Nina':'jakarta', 'Mia':'semarang', 'Indah':'bandung', 'Salman':'surabaya', 'Mikail':'jakarta'}\n",
    "\n",
    "\n",
    "Hint - Gunakan Set"
   ]
  },
  {
   "cell_type": "code",
   "execution_count": 3,
   "metadata": {
    "id": "cVTSnYF8qSd7"
   },
   "outputs": [
    {
     "name": "stdout",
     "output_type": "stream",
     "text": [
      "{'jakarta', 'surabaya', 'bandung', 'semarang'}\n"
     ]
    }
   ],
   "source": [
    "#kerjakan soal no 3 pada sel ini\n",
    "#keluaran yang diharapkan: {'bandung','jakarta','semarang','surabaya'}\n",
    "#urutan keluaran tidak penting\n",
    "\n",
    "data_dict = {'Rudi':'bandung', 'Nina':'jakarta', 'Mia':'semarang', 'Indah':'bandung', 'Salman':'surabaya', 'Mikail':'jakarta'}\n",
    "kota = set()\n",
    "\n",
    "for key, values in data_dict.items():\n",
    "    kota.add(values)\n",
    "\n",
    "print(kota)"
   ]
  },
  {
   "cell_type": "markdown",
   "metadata": {
    "id": "SymjRGBMtOqm"
   },
   "source": [
    "4. Gunakan metode slicing untuk mendapatkan hasil yang diharapkan\n",
    "\n",
    "a = ['1', '13b', 'aa1', 1.32, 22.1, 2.34]\n",
    "..."
   ]
  },
  {
   "cell_type": "code",
   "execution_count": 4,
   "metadata": {
    "id": "GJZS3I0etxKX"
   },
   "outputs": [
    {
     "name": "stdout",
     "output_type": "stream",
     "text": [
      "['13b', 'aa1', 1.32, 22.1]\n"
     ]
    }
   ],
   "source": [
    "#kerjakan soal no 4 pada sel ini\n",
    "#keluaran yang diharapkan: \n",
    "#[ '13b', 'aa1', 1.32, 22.1 ]\n",
    "a = ['1', '13b', 'aa1', 1.32, 22.1, 2.34]\n",
    "\n",
    "print(a[1:-1])"
   ]
  },
  {
   "cell_type": "markdown",
   "metadata": {
    "id": "j8mfqe9guBjU"
   },
   "source": [
    "5. Gabungkan kedua list di bawah ini\n",
    "\n",
    "a = [1, 3, 5]\n",
    "\n",
    "b = [5, 1, 3]"
   ]
  },
  {
   "cell_type": "code",
   "execution_count": 5,
   "metadata": {
    "id": "mJUPQFEruN0t"
   },
   "outputs": [
    {
     "name": "stdout",
     "output_type": "stream",
     "text": [
      "[5, 1, 3, 1, 3, 5]\n"
     ]
    }
   ],
   "source": [
    "#kerjakan soal no 5 pada sel ini\n",
    "#keluaran yang diharapkan: \n",
    "#[5, 1, 3, 1, 3, 5]\n",
    "\n",
    "a = [1, 3, 5]\n",
    "b = [5, 1, 3]\n",
    "\n",
    "\n",
    "print(b+a)"
   ]
  },
  {
   "cell_type": "markdown",
   "metadata": {
    "id": "9fMErps3uiDU"
   },
   "source": [
    "6. Hilangkan elemen yang bernilai \"bathroom\" dan 10.50 lalu print kembali list areas\n",
    "\n",
    "areas = [\"hallway\", 11.25, \"kitchen\", 18.0,\n",
    "        \"chill zone\", 20.0, \"bedroom\", 10.75,\n",
    "         \"bathroom\", 10.50, \"poolhouse\", 24.5,\n",
    "         \"garage\", 15.45]\n",
    "\n",
    "..."
   ]
  },
  {
   "cell_type": "code",
   "execution_count": 6,
   "metadata": {
    "id": "EjdPvnFnuwKG"
   },
   "outputs": [
    {
     "name": "stdout",
     "output_type": "stream",
     "text": [
      "['hallway', 11.25, 'kitchen', 18.0, 'chill zone', 20.0, 'bedroom', 10.75, 'poolhouse', 24.5, 'garage', 15.45]\n"
     ]
    }
   ],
   "source": [
    "#kerjakan soal no 6 pada sel ini\n",
    "#keluaran yang diharapkan: \n",
    "#['hallway', 11.25, 'kitchen', 18.0, 'chill zone', 20.0, 'bedroom', 10.75, 'poolhouse', 24.5, 'garage', 15.45]\n",
    "areas = [\"hallway\", 11.25, \"kitchen\", 18.0, \"chill zone\", 20.0, \"bedroom\", 10.75, \"bathroom\", 10.50, \"poolhouse\", 24.5, \"garage\", 15.45]\n",
    "\n",
    "areas.remove('bathroom')\n",
    "areas.remove(10.5)\n",
    "\n",
    "print(areas)"
   ]
  },
  {
   "cell_type": "markdown",
   "metadata": {
    "id": "GTChil2XvR2t"
   },
   "source": [
    "7.\n",
    "\n",
    "***europe = {'spain':'madrid', 'france':'paris', 'germany':'bonn', 'norway':'oslo', 'italy':'rome', 'poland':'warsaw', 'australia':'vienna' }***\n",
    "\n",
    "\n",
    "update nilai ibukota german ke berlin\n",
    "\n",
    ".........\n",
    "\n",
    "remove australia dari europa\n",
    "\n",
    "........\n",
    "\n",
    "print(europe)"
   ]
  },
  {
   "cell_type": "code",
   "execution_count": 7,
   "metadata": {
    "id": "y3BndXSZvl-R"
   },
   "outputs": [
    {
     "name": "stdout",
     "output_type": "stream",
     "text": [
      "{'spain': 'madrid', 'france': 'paris', 'germany': 'berlin', 'norway': 'oslo', 'italy': 'rome', 'poland': 'warsaw'}\n"
     ]
    }
   ],
   "source": [
    "#kerjakan soal no 7 pada sel ini\n",
    "#keluaran yang diharapkan: \n",
    "#{'spain': 'madrid', 'france': 'paris', 'germany': 'berlin', 'norway': 'oslo', 'italy': 'rome', 'poland': 'warsaw'}\n",
    "europe = {'spain':'madrid', 'france':'paris', 'germany':'bonn', 'norway':'oslo', 'italy':'rome', 'poland':'warsaw', 'australia':'vienna' }\n",
    "\n",
    "europe['germany']='berlin'\n",
    "europe.pop('australia')\n",
    "\n",
    "print(europe)"
   ]
  },
  {
   "cell_type": "markdown",
   "metadata": {
    "id": "Ra6Cxl-vv05z"
   },
   "source": [
    "8.\n",
    "Cari semua nilai yang sama dari kedua list berikut ini. Print dalam bentuk list\n",
    "\n",
    "\n",
    "a = [1,4,24,53,67,45,23,4,7,8,2,9,6,10,19,20,23,13,19]\n",
    "\n",
    "b = [1,3,5,7,9,11,13,15,17,19,21,23]"
   ]
  },
  {
   "cell_type": "code",
   "execution_count": 8,
   "metadata": {
    "id": "ouDKp690wNut"
   },
   "outputs": [
    {
     "name": "stdout",
     "output_type": "stream",
     "text": [
      "[1, 7, 9, 13, 19, 23]\n"
     ]
    }
   ],
   "source": [
    "#kerjakan soal no 8 pada sel ini\n",
    "#keluaran yang diharapkan: \n",
    "#[1, 7, 9, 13, 19, 23]\n",
    "\n",
    "a = [1,4,24,53,67,45,23,4,7,8,2,9,6,10,19,20,23,13,19]\n",
    "b = [1,3,5,7,9,11,13,15,17,19,21,23]\n",
    "\n",
    "set_a = set(a)\n",
    "set_b = set(b)\n",
    "\n",
    "list_ab = list(set_a & set_b)\n",
    "\n",
    "print(list_ab)"
   ]
  },
  {
   "cell_type": "code",
   "execution_count": null,
   "metadata": {},
   "outputs": [],
   "source": []
  }
 ],
 "metadata": {
  "colab": {
   "collapsed_sections": [],
   "name": "tugas_2.ipynb",
   "provenance": []
  },
  "kernelspec": {
   "display_name": "Python 3 (ipykernel)",
   "language": "python",
   "name": "python3"
  },
  "language_info": {
   "codemirror_mode": {
    "name": "ipython",
    "version": 3
   },
   "file_extension": ".py",
   "mimetype": "text/x-python",
   "name": "python",
   "nbconvert_exporter": "python",
   "pygments_lexer": "ipython3",
   "version": "3.10.11"
  }
 },
 "nbformat": 4,
 "nbformat_minor": 1
}
