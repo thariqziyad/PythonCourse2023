{
 "cells": [
  {
   "cell_type": "markdown",
   "metadata": {
    "id": "Iz1S0RQe5v-y"
   },
   "source": [
    "Pada kesempatan kali ini kita akan melakukan pengolahan data covid-19 di Indonesia. Data ini diambil dari situs kawalcovid19.\n",
    "Data diambil sebagian dari tanggal 1 Juli 2021 - 14 November 2021.\n",
    "\n",
    "Pada kesempatan kali ini kita akan coba melakukan forecasting dengan menerapkan metode data science yang sudah kita pelajari sebelumnya"
   ]
  },
  {
   "cell_type": "markdown",
   "metadata": {
    "id": "GW6Zp10w5v-1"
   },
   "source": [
    "1. Business Understanding / Question\n",
    "\n",
    "Pada kesempatan kali ini kita ingin mengetahui bagaimana perkembangan kasus baru pada tanggal 15 Nov 2021 - 14 Des 2021 di Indonesia. Jika diasumsikan tidak adanya outbreak mendadak dan masuknya varian baru apakah kasusnya bisa menurun dan sejauh apa menurunnya."
   ]
  },
  {
   "cell_type": "markdown",
   "metadata": {
    "id": "kzNUFMvS5v-2"
   },
   "source": [
    "2. Data Collection\n",
    "\n",
    "Disini kita akan mencoba untuk mengumpulkan data yang kita butuhkan. Beruntungnya, kita sudah memiliki datanya dan hanya tinggal melakukan pemanggilan."
   ]
  },
  {
   "cell_type": "code",
   "execution_count": 1,
   "metadata": {
    "id": "97uo1Rz25v-2"
   },
   "outputs": [],
   "source": [
    "#import semua package/library pada sel ini, jika butuh memasukkan package/library baru maka run ulang sel ini\n",
    "import pandas as pd\n",
    "import numpy as np\n",
    "from sklearn.model_selection import train_test_split\n",
    "from sklearn.preprocessing import PolynomialFeatures\n",
    "from sklearn.linear_model import LinearRegression\n",
    "from sklearn.metrics import r2_score\n",
    "import matplotlib.pyplot as plt"
   ]
  },
  {
   "cell_type": "code",
   "execution_count": 2,
   "metadata": {
    "colab": {
     "base_uri": "https://localhost:8080/",
     "height": 206
    },
    "id": "cgzrrIzk5v-3",
    "outputId": "5e27fda1-970f-46b1-86d3-23b6afcdda06"
   },
   "outputs": [
    {
     "data": {
      "text/html": [
       "<div>\n",
       "<style scoped>\n",
       "    .dataframe tbody tr th:only-of-type {\n",
       "        vertical-align: middle;\n",
       "    }\n",
       "\n",
       "    .dataframe tbody tr th {\n",
       "        vertical-align: top;\n",
       "    }\n",
       "\n",
       "    .dataframe thead th {\n",
       "        text-align: right;\n",
       "    }\n",
       "</style>\n",
       "<table border=\"1\" class=\"dataframe\">\n",
       "  <thead>\n",
       "    <tr style=\"text-align: right;\">\n",
       "      <th></th>\n",
       "      <th>Tanggal</th>\n",
       "      <th>Kasus_harian</th>\n",
       "      <th>Total_kasus</th>\n",
       "      <th>Kasus_aktif</th>\n",
       "      <th>Sembuh_baru</th>\n",
       "      <th>Sembuh</th>\n",
       "      <th>Meninggal_baru</th>\n",
       "      <th>Meninggal_Dunia</th>\n",
       "    </tr>\n",
       "  </thead>\n",
       "  <tbody>\n",
       "    <tr>\n",
       "      <th>0</th>\n",
       "      <td>2021-07-01</td>\n",
       "      <td>24836</td>\n",
       "      <td>2203108</td>\n",
       "      <td>253826</td>\n",
       "      <td>9874</td>\n",
       "      <td>1890287</td>\n",
       "      <td>504</td>\n",
       "      <td>58995</td>\n",
       "    </tr>\n",
       "    <tr>\n",
       "      <th>1</th>\n",
       "      <td>2021-07-02</td>\n",
       "      <td>25830</td>\n",
       "      <td>2228938</td>\n",
       "      <td>267539</td>\n",
       "      <td>11578</td>\n",
       "      <td>1901865</td>\n",
       "      <td>539</td>\n",
       "      <td>59534</td>\n",
       "    </tr>\n",
       "    <tr>\n",
       "      <th>2</th>\n",
       "      <td>2021-07-03</td>\n",
       "      <td>27913</td>\n",
       "      <td>2256851</td>\n",
       "      <td>281677</td>\n",
       "      <td>13282</td>\n",
       "      <td>1915147</td>\n",
       "      <td>493</td>\n",
       "      <td>60027</td>\n",
       "    </tr>\n",
       "    <tr>\n",
       "      <th>3</th>\n",
       "      <td>2021-07-04</td>\n",
       "      <td>27233</td>\n",
       "      <td>2284084</td>\n",
       "      <td>295228</td>\n",
       "      <td>13127</td>\n",
       "      <td>1928274</td>\n",
       "      <td>555</td>\n",
       "      <td>60582</td>\n",
       "    </tr>\n",
       "    <tr>\n",
       "      <th>4</th>\n",
       "      <td>2021-07-05</td>\n",
       "      <td>29745</td>\n",
       "      <td>2313829</td>\n",
       "      <td>309999</td>\n",
       "      <td>14416</td>\n",
       "      <td>1942690</td>\n",
       "      <td>558</td>\n",
       "      <td>61140</td>\n",
       "    </tr>\n",
       "  </tbody>\n",
       "</table>\n",
       "</div>"
      ],
      "text/plain": [
       "      Tanggal  Kasus_harian  Total_kasus  Kasus_aktif  Sembuh_baru   Sembuh  \\\n",
       "0  2021-07-01         24836      2203108       253826         9874  1890287   \n",
       "1  2021-07-02         25830      2228938       267539        11578  1901865   \n",
       "2  2021-07-03         27913      2256851       281677        13282  1915147   \n",
       "3  2021-07-04         27233      2284084       295228        13127  1928274   \n",
       "4  2021-07-05         29745      2313829       309999        14416  1942690   \n",
       "\n",
       "   Meninggal_baru  Meninggal_Dunia  \n",
       "0             504            58995  \n",
       "1             539            59534  \n",
       "2             493            60027  \n",
       "3             555            60582  \n",
       "4             558            61140  "
      ]
     },
     "execution_count": 2,
     "metadata": {},
     "output_type": "execute_result"
    }
   ],
   "source": [
    "#panggil dalam bentuk dataframe pada langkah kali ini, dan tampilkan dengan metode head\n",
    "df_covid = pd.read_csv('covid_indonesia_2.csv')\n",
    "df_covid.head()"
   ]
  },
  {
   "cell_type": "markdown",
   "metadata": {
    "id": "F7C9MiGP5v-4"
   },
   "source": [
    "2. Data Preparation\n",
    "\n",
    "Pada langkah ini kita akan menyiapkan data yang kita butuhkan. kita akan menggunakan dua kolom pada kesempatan kali ini yaitu total kasus dan tanggal. pertama kita lihat dulu detail dari dataset kita."
   ]
  },
  {
   "cell_type": "code",
   "execution_count": 3,
   "metadata": {
    "id": "meKPu50u5v-4"
   },
   "outputs": [
    {
     "data": {
      "text/html": [
       "<div>\n",
       "<style scoped>\n",
       "    .dataframe tbody tr th:only-of-type {\n",
       "        vertical-align: middle;\n",
       "    }\n",
       "\n",
       "    .dataframe tbody tr th {\n",
       "        vertical-align: top;\n",
       "    }\n",
       "\n",
       "    .dataframe thead th {\n",
       "        text-align: right;\n",
       "    }\n",
       "</style>\n",
       "<table border=\"1\" class=\"dataframe\">\n",
       "  <thead>\n",
       "    <tr style=\"text-align: right;\">\n",
       "      <th></th>\n",
       "      <th>Kasus_harian</th>\n",
       "      <th>Total_kasus</th>\n",
       "      <th>Kasus_aktif</th>\n",
       "      <th>Sembuh_baru</th>\n",
       "      <th>Sembuh</th>\n",
       "      <th>Meninggal_baru</th>\n",
       "      <th>Meninggal_Dunia</th>\n",
       "    </tr>\n",
       "  </thead>\n",
       "  <tbody>\n",
       "    <tr>\n",
       "      <th>count</th>\n",
       "      <td>137.000000</td>\n",
       "      <td>1.370000e+02</td>\n",
       "      <td>137.000000</td>\n",
       "      <td>137.000000</td>\n",
       "      <td>1.370000e+02</td>\n",
       "      <td>137.000000</td>\n",
       "      <td>137.00000</td>\n",
       "    </tr>\n",
       "    <tr>\n",
       "      <th>mean</th>\n",
       "      <td>15128.343066</td>\n",
       "      <td>3.800636e+06</td>\n",
       "      <td>212836.240876</td>\n",
       "      <td>16188.065693</td>\n",
       "      <td>3.467221e+06</td>\n",
       "      <td>621.664234</td>\n",
       "      <td>120578.20438</td>\n",
       "    </tr>\n",
       "    <tr>\n",
       "      <th>std</th>\n",
       "      <td>16758.477055</td>\n",
       "      <td>6.121355e+05</td>\n",
       "      <td>201927.468029</td>\n",
       "      <td>15064.380154</td>\n",
       "      <td>7.427454e+05</td>\n",
       "      <td>614.988956</td>\n",
       "      <td>28539.47019</td>\n",
       "    </tr>\n",
       "    <tr>\n",
       "      <th>min</th>\n",
       "      <td>244.000000</td>\n",
       "      <td>2.203108e+06</td>\n",
       "      <td>9018.000000</td>\n",
       "      <td>451.000000</td>\n",
       "      <td>1.890287e+06</td>\n",
       "      <td>11.000000</td>\n",
       "      <td>58995.00000</td>\n",
       "    </tr>\n",
       "    <tr>\n",
       "      <th>25%</th>\n",
       "      <td>1053.000000</td>\n",
       "      <td>3.532567e+06</td>\n",
       "      <td>22541.000000</td>\n",
       "      <td>1946.000000</td>\n",
       "      <td>2.907920e+06</td>\n",
       "      <td>50.000000</td>\n",
       "      <td>100636.00000</td>\n",
       "    </tr>\n",
       "    <tr>\n",
       "      <th>50%</th>\n",
       "      <td>5436.000000</td>\n",
       "      <td>4.140634e+06</td>\n",
       "      <td>138630.000000</td>\n",
       "      <td>12474.000000</td>\n",
       "      <td>3.864848e+06</td>\n",
       "      <td>493.000000</td>\n",
       "      <td>137156.00000</td>\n",
       "    </tr>\n",
       "    <tr>\n",
       "      <th>75%</th>\n",
       "      <td>29745.000000</td>\n",
       "      <td>4.228552e+06</td>\n",
       "      <td>380797.000000</td>\n",
       "      <td>29794.000000</td>\n",
       "      <td>4.063295e+06</td>\n",
       "      <td>1128.000000</td>\n",
       "      <td>142716.00000</td>\n",
       "    </tr>\n",
       "    <tr>\n",
       "      <th>max</th>\n",
       "      <td>56757.000000</td>\n",
       "      <td>4.250855e+06</td>\n",
       "      <td>574135.000000</td>\n",
       "      <td>48832.000000</td>\n",
       "      <td>4.098178e+06</td>\n",
       "      <td>2069.000000</td>\n",
       "      <td>143659.00000</td>\n",
       "    </tr>\n",
       "  </tbody>\n",
       "</table>\n",
       "</div>"
      ],
      "text/plain": [
       "       Kasus_harian   Total_kasus    Kasus_aktif   Sembuh_baru        Sembuh  \\\n",
       "count    137.000000  1.370000e+02     137.000000    137.000000  1.370000e+02   \n",
       "mean   15128.343066  3.800636e+06  212836.240876  16188.065693  3.467221e+06   \n",
       "std    16758.477055  6.121355e+05  201927.468029  15064.380154  7.427454e+05   \n",
       "min      244.000000  2.203108e+06    9018.000000    451.000000  1.890287e+06   \n",
       "25%     1053.000000  3.532567e+06   22541.000000   1946.000000  2.907920e+06   \n",
       "50%     5436.000000  4.140634e+06  138630.000000  12474.000000  3.864848e+06   \n",
       "75%    29745.000000  4.228552e+06  380797.000000  29794.000000  4.063295e+06   \n",
       "max    56757.000000  4.250855e+06  574135.000000  48832.000000  4.098178e+06   \n",
       "\n",
       "       Meninggal_baru  Meninggal_Dunia  \n",
       "count      137.000000        137.00000  \n",
       "mean       621.664234     120578.20438  \n",
       "std        614.988956      28539.47019  \n",
       "min         11.000000      58995.00000  \n",
       "25%         50.000000     100636.00000  \n",
       "50%        493.000000     137156.00000  \n",
       "75%       1128.000000     142716.00000  \n",
       "max       2069.000000     143659.00000  "
      ]
     },
     "execution_count": 3,
     "metadata": {},
     "output_type": "execute_result"
    }
   ],
   "source": [
    "#tuliskan kode disini\n",
    "df_covid.describe()"
   ]
  },
  {
   "cell_type": "markdown",
   "metadata": {
    "id": "abE_WLc65v-5"
   },
   "source": [
    "lalu kita lihat tipe data dari semua kolom pada dataset"
   ]
  },
  {
   "cell_type": "code",
   "execution_count": 4,
   "metadata": {
    "id": "Rcom9MKh5v-5"
   },
   "outputs": [
    {
     "data": {
      "text/plain": [
       "Tanggal            object\n",
       "Kasus_harian        int64\n",
       "Total_kasus         int64\n",
       "Kasus_aktif         int64\n",
       "Sembuh_baru         int64\n",
       "Sembuh              int64\n",
       "Meninggal_baru      int64\n",
       "Meninggal_Dunia     int64\n",
       "dtype: object"
      ]
     },
     "execution_count": 4,
     "metadata": {},
     "output_type": "execute_result"
    }
   ],
   "source": [
    "#tuliskan kode disini\n",
    "df_covid.dtypes"
   ]
  },
  {
   "cell_type": "markdown",
   "metadata": {
    "id": "v12tCnsi5v-6"
   },
   "source": [
    "Karena yang akan kita gunakan adalah kolom tanggal sebagai time-series dan kasus harian sebagai input kita. maka kita perhatikan dua kolom tersebut.\n",
    "Pada detail kasus harian terlihat nilai max dan min yang sangat jauh dengan 50% data berada di angka 5000 an. jauh dari rata-rata di 15000 an. sehingga kita perlu melakukan normalisasi pada kolom tersebut. Lalu karena mesin kita bekerja dengan numerik, maka kita akan ubah tanggal kita jadi numerik."
   ]
  },
  {
   "cell_type": "code",
   "execution_count": 5,
   "metadata": {
    "colab": {
     "base_uri": "https://localhost:8080/",
     "height": 423
    },
    "id": "VMXVlUHR5v-6",
    "outputId": "26d84968-ce3b-4e12-e8ed-56336887ceef"
   },
   "outputs": [
    {
     "data": {
      "text/html": [
       "<div>\n",
       "<style scoped>\n",
       "    .dataframe tbody tr th:only-of-type {\n",
       "        vertical-align: middle;\n",
       "    }\n",
       "\n",
       "    .dataframe tbody tr th {\n",
       "        vertical-align: top;\n",
       "    }\n",
       "\n",
       "    .dataframe thead th {\n",
       "        text-align: right;\n",
       "    }\n",
       "</style>\n",
       "<table border=\"1\" class=\"dataframe\">\n",
       "  <thead>\n",
       "    <tr style=\"text-align: right;\">\n",
       "      <th></th>\n",
       "      <th>Tanggal</th>\n",
       "      <th>Kasus_harian</th>\n",
       "      <th>Total_kasus</th>\n",
       "      <th>Kasus_aktif</th>\n",
       "      <th>Sembuh_baru</th>\n",
       "      <th>Sembuh</th>\n",
       "      <th>Meninggal_baru</th>\n",
       "      <th>Meninggal_Dunia</th>\n",
       "      <th>cases_norm</th>\n",
       "    </tr>\n",
       "  </thead>\n",
       "  <tbody>\n",
       "    <tr>\n",
       "      <th>0</th>\n",
       "      <td>2021-07-01</td>\n",
       "      <td>24836</td>\n",
       "      <td>2203108</td>\n",
       "      <td>253826</td>\n",
       "      <td>9874</td>\n",
       "      <td>1890287</td>\n",
       "      <td>504</td>\n",
       "      <td>58995</td>\n",
       "      <td>10.120049</td>\n",
       "    </tr>\n",
       "    <tr>\n",
       "      <th>1</th>\n",
       "      <td>2021-07-02</td>\n",
       "      <td>25830</td>\n",
       "      <td>2228938</td>\n",
       "      <td>267539</td>\n",
       "      <td>11578</td>\n",
       "      <td>1901865</td>\n",
       "      <td>539</td>\n",
       "      <td>59534</td>\n",
       "      <td>10.159292</td>\n",
       "    </tr>\n",
       "    <tr>\n",
       "      <th>2</th>\n",
       "      <td>2021-07-03</td>\n",
       "      <td>27913</td>\n",
       "      <td>2256851</td>\n",
       "      <td>281677</td>\n",
       "      <td>13282</td>\n",
       "      <td>1915147</td>\n",
       "      <td>493</td>\n",
       "      <td>60027</td>\n",
       "      <td>10.236848</td>\n",
       "    </tr>\n",
       "    <tr>\n",
       "      <th>3</th>\n",
       "      <td>2021-07-04</td>\n",
       "      <td>27233</td>\n",
       "      <td>2284084</td>\n",
       "      <td>295228</td>\n",
       "      <td>13127</td>\n",
       "      <td>1928274</td>\n",
       "      <td>555</td>\n",
       "      <td>60582</td>\n",
       "      <td>10.212185</td>\n",
       "    </tr>\n",
       "    <tr>\n",
       "      <th>4</th>\n",
       "      <td>2021-07-05</td>\n",
       "      <td>29745</td>\n",
       "      <td>2313829</td>\n",
       "      <td>309999</td>\n",
       "      <td>14416</td>\n",
       "      <td>1942690</td>\n",
       "      <td>558</td>\n",
       "      <td>61140</td>\n",
       "      <td>10.300416</td>\n",
       "    </tr>\n",
       "    <tr>\n",
       "      <th>...</th>\n",
       "      <td>...</td>\n",
       "      <td>...</td>\n",
       "      <td>...</td>\n",
       "      <td>...</td>\n",
       "      <td>...</td>\n",
       "      <td>...</td>\n",
       "      <td>...</td>\n",
       "      <td>...</td>\n",
       "      <td>...</td>\n",
       "    </tr>\n",
       "    <tr>\n",
       "      <th>132</th>\n",
       "      <td>2021-11-10</td>\n",
       "      <td>480</td>\n",
       "      <td>4249323</td>\n",
       "      <td>9537</td>\n",
       "      <td>531</td>\n",
       "      <td>4096194</td>\n",
       "      <td>14</td>\n",
       "      <td>143592</td>\n",
       "      <td>6.173786</td>\n",
       "    </tr>\n",
       "    <tr>\n",
       "      <th>133</th>\n",
       "      <td>2021-11-11</td>\n",
       "      <td>435</td>\n",
       "      <td>4249758</td>\n",
       "      <td>9486</td>\n",
       "      <td>470</td>\n",
       "      <td>4096664</td>\n",
       "      <td>16</td>\n",
       "      <td>143608</td>\n",
       "      <td>6.075346</td>\n",
       "    </tr>\n",
       "    <tr>\n",
       "      <th>134</th>\n",
       "      <td>2021-11-12</td>\n",
       "      <td>399</td>\n",
       "      <td>4250157</td>\n",
       "      <td>9305</td>\n",
       "      <td>560</td>\n",
       "      <td>4097224</td>\n",
       "      <td>20</td>\n",
       "      <td>143628</td>\n",
       "      <td>5.988961</td>\n",
       "    </tr>\n",
       "    <tr>\n",
       "      <th>135</th>\n",
       "      <td>2021-11-13</td>\n",
       "      <td>359</td>\n",
       "      <td>4250516</td>\n",
       "      <td>9198</td>\n",
       "      <td>451</td>\n",
       "      <td>4097675</td>\n",
       "      <td>15</td>\n",
       "      <td>143643</td>\n",
       "      <td>5.883322</td>\n",
       "    </tr>\n",
       "    <tr>\n",
       "      <th>136</th>\n",
       "      <td>2021-11-14</td>\n",
       "      <td>339</td>\n",
       "      <td>4250855</td>\n",
       "      <td>9018</td>\n",
       "      <td>503</td>\n",
       "      <td>4098178</td>\n",
       "      <td>16</td>\n",
       "      <td>143659</td>\n",
       "      <td>5.826000</td>\n",
       "    </tr>\n",
       "  </tbody>\n",
       "</table>\n",
       "<p>137 rows × 9 columns</p>\n",
       "</div>"
      ],
      "text/plain": [
       "        Tanggal  Kasus_harian  Total_kasus  Kasus_aktif  Sembuh_baru   Sembuh  \\\n",
       "0    2021-07-01         24836      2203108       253826         9874  1890287   \n",
       "1    2021-07-02         25830      2228938       267539        11578  1901865   \n",
       "2    2021-07-03         27913      2256851       281677        13282  1915147   \n",
       "3    2021-07-04         27233      2284084       295228        13127  1928274   \n",
       "4    2021-07-05         29745      2313829       309999        14416  1942690   \n",
       "..          ...           ...          ...          ...          ...      ...   \n",
       "132  2021-11-10           480      4249323         9537          531  4096194   \n",
       "133  2021-11-11           435      4249758         9486          470  4096664   \n",
       "134  2021-11-12           399      4250157         9305          560  4097224   \n",
       "135  2021-11-13           359      4250516         9198          451  4097675   \n",
       "136  2021-11-14           339      4250855         9018          503  4098178   \n",
       "\n",
       "     Meninggal_baru  Meninggal_Dunia  cases_norm  \n",
       "0               504            58995   10.120049  \n",
       "1               539            59534   10.159292  \n",
       "2               493            60027   10.236848  \n",
       "3               555            60582   10.212185  \n",
       "4               558            61140   10.300416  \n",
       "..              ...              ...         ...  \n",
       "132              14           143592    6.173786  \n",
       "133              16           143608    6.075346  \n",
       "134              20           143628    5.988961  \n",
       "135              15           143643    5.883322  \n",
       "136              16           143659    5.826000  \n",
       "\n",
       "[137 rows x 9 columns]"
      ]
     },
     "execution_count": 5,
     "metadata": {},
     "output_type": "execute_result"
    }
   ],
   "source": [
    "'''pada kolom ini kita akan melakukan transformasi dan menambahkan kolom baru pada dataframe kita.\n",
    "Kita beri nama kolom baru dengan data hasil normalisasi tersebut sebagai cases_norm.\n",
    "Pada bagian ini saya akan menggunakan metode logaritmik, dipersilahkan jika peserta ingin menggunakan metode yang lain\n",
    "'''\n",
    "\n",
    "df_covid[\"cases_norm\"] = np.log(df_covid['Kasus_harian'])\n",
    "df_covid"
   ]
  },
  {
   "cell_type": "markdown",
   "metadata": {
    "id": "vTCGzUDh5v-7"
   },
   "source": [
    "Setelah ini kita akan mengubah kolom tanggal menjadi kolom numerik dengan 1 Juli 2021 sebagai dasar.\n",
    "Artinya saya akan mengubah\n",
    "\n",
    "2021-07-01 menjadi 0,\n",
    "\n",
    "2021-07-02 menjadi 1,\n",
    "\n",
    "dst."
   ]
  },
  {
   "cell_type": "code",
   "execution_count": 6,
   "metadata": {
    "colab": {
     "base_uri": "https://localhost:8080/"
    },
    "id": "Nlk-WqT-5v-7",
    "outputId": "8379fa63-427d-404c-ff9d-bfd77baf5127"
   },
   "outputs": [
    {
     "name": "stdout",
     "output_type": "stream",
     "text": [
      "nilai default_date adalah : 2021-07-01 00:00:00\n"
     ]
    }
   ],
   "source": [
    "'''Dengan memanfaatkan metode to_datetime pada pandas silahkan ubah row index 0 pada tanggal dan masukkan pada suatu variabel bernama default_date.\n",
    "Nilai inilah yang akan menjadi nilai pengurang untuk tanggal lainnya\n",
    "'''\n",
    "default_date = pd.to_datetime(df_covid.iloc[0]['Tanggal'])\n",
    "print(f'nilai default_date adalah : {default_date}')"
   ]
  },
  {
   "cell_type": "markdown",
   "metadata": {
    "id": "UL14Nwv55v-8"
   },
   "source": [
    "Sekarang kita akan membuat fungsi yang akan mengubah semua tanggal pada kolom menjadi numerik dengan basis pada tanggal 1 Juli 2021."
   ]
  },
  {
   "cell_type": "code",
   "execution_count": 7,
   "metadata": {
    "colab": {
     "base_uri": "https://localhost:8080/",
     "height": 423
    },
    "id": "ZSLboGH45v-8",
    "outputId": "dd04d203-32f0-41d0-eb23-133712106d70"
   },
   "outputs": [
    {
     "data": {
      "text/html": [
       "<div>\n",
       "<style scoped>\n",
       "    .dataframe tbody tr th:only-of-type {\n",
       "        vertical-align: middle;\n",
       "    }\n",
       "\n",
       "    .dataframe tbody tr th {\n",
       "        vertical-align: top;\n",
       "    }\n",
       "\n",
       "    .dataframe thead th {\n",
       "        text-align: right;\n",
       "    }\n",
       "</style>\n",
       "<table border=\"1\" class=\"dataframe\">\n",
       "  <thead>\n",
       "    <tr style=\"text-align: right;\">\n",
       "      <th></th>\n",
       "      <th>Tanggal</th>\n",
       "      <th>Kasus_harian</th>\n",
       "      <th>Total_kasus</th>\n",
       "      <th>Kasus_aktif</th>\n",
       "      <th>Sembuh_baru</th>\n",
       "      <th>Sembuh</th>\n",
       "      <th>Meninggal_baru</th>\n",
       "      <th>Meninggal_Dunia</th>\n",
       "      <th>cases_norm</th>\n",
       "      <th>days</th>\n",
       "    </tr>\n",
       "  </thead>\n",
       "  <tbody>\n",
       "    <tr>\n",
       "      <th>0</th>\n",
       "      <td>2021-07-01</td>\n",
       "      <td>24836</td>\n",
       "      <td>2203108</td>\n",
       "      <td>253826</td>\n",
       "      <td>9874</td>\n",
       "      <td>1890287</td>\n",
       "      <td>504</td>\n",
       "      <td>58995</td>\n",
       "      <td>10.120049</td>\n",
       "      <td>0</td>\n",
       "    </tr>\n",
       "    <tr>\n",
       "      <th>1</th>\n",
       "      <td>2021-07-02</td>\n",
       "      <td>25830</td>\n",
       "      <td>2228938</td>\n",
       "      <td>267539</td>\n",
       "      <td>11578</td>\n",
       "      <td>1901865</td>\n",
       "      <td>539</td>\n",
       "      <td>59534</td>\n",
       "      <td>10.159292</td>\n",
       "      <td>1</td>\n",
       "    </tr>\n",
       "    <tr>\n",
       "      <th>2</th>\n",
       "      <td>2021-07-03</td>\n",
       "      <td>27913</td>\n",
       "      <td>2256851</td>\n",
       "      <td>281677</td>\n",
       "      <td>13282</td>\n",
       "      <td>1915147</td>\n",
       "      <td>493</td>\n",
       "      <td>60027</td>\n",
       "      <td>10.236848</td>\n",
       "      <td>2</td>\n",
       "    </tr>\n",
       "    <tr>\n",
       "      <th>3</th>\n",
       "      <td>2021-07-04</td>\n",
       "      <td>27233</td>\n",
       "      <td>2284084</td>\n",
       "      <td>295228</td>\n",
       "      <td>13127</td>\n",
       "      <td>1928274</td>\n",
       "      <td>555</td>\n",
       "      <td>60582</td>\n",
       "      <td>10.212185</td>\n",
       "      <td>3</td>\n",
       "    </tr>\n",
       "    <tr>\n",
       "      <th>4</th>\n",
       "      <td>2021-07-05</td>\n",
       "      <td>29745</td>\n",
       "      <td>2313829</td>\n",
       "      <td>309999</td>\n",
       "      <td>14416</td>\n",
       "      <td>1942690</td>\n",
       "      <td>558</td>\n",
       "      <td>61140</td>\n",
       "      <td>10.300416</td>\n",
       "      <td>4</td>\n",
       "    </tr>\n",
       "    <tr>\n",
       "      <th>...</th>\n",
       "      <td>...</td>\n",
       "      <td>...</td>\n",
       "      <td>...</td>\n",
       "      <td>...</td>\n",
       "      <td>...</td>\n",
       "      <td>...</td>\n",
       "      <td>...</td>\n",
       "      <td>...</td>\n",
       "      <td>...</td>\n",
       "      <td>...</td>\n",
       "    </tr>\n",
       "    <tr>\n",
       "      <th>132</th>\n",
       "      <td>2021-11-10</td>\n",
       "      <td>480</td>\n",
       "      <td>4249323</td>\n",
       "      <td>9537</td>\n",
       "      <td>531</td>\n",
       "      <td>4096194</td>\n",
       "      <td>14</td>\n",
       "      <td>143592</td>\n",
       "      <td>6.173786</td>\n",
       "      <td>132</td>\n",
       "    </tr>\n",
       "    <tr>\n",
       "      <th>133</th>\n",
       "      <td>2021-11-11</td>\n",
       "      <td>435</td>\n",
       "      <td>4249758</td>\n",
       "      <td>9486</td>\n",
       "      <td>470</td>\n",
       "      <td>4096664</td>\n",
       "      <td>16</td>\n",
       "      <td>143608</td>\n",
       "      <td>6.075346</td>\n",
       "      <td>133</td>\n",
       "    </tr>\n",
       "    <tr>\n",
       "      <th>134</th>\n",
       "      <td>2021-11-12</td>\n",
       "      <td>399</td>\n",
       "      <td>4250157</td>\n",
       "      <td>9305</td>\n",
       "      <td>560</td>\n",
       "      <td>4097224</td>\n",
       "      <td>20</td>\n",
       "      <td>143628</td>\n",
       "      <td>5.988961</td>\n",
       "      <td>134</td>\n",
       "    </tr>\n",
       "    <tr>\n",
       "      <th>135</th>\n",
       "      <td>2021-11-13</td>\n",
       "      <td>359</td>\n",
       "      <td>4250516</td>\n",
       "      <td>9198</td>\n",
       "      <td>451</td>\n",
       "      <td>4097675</td>\n",
       "      <td>15</td>\n",
       "      <td>143643</td>\n",
       "      <td>5.883322</td>\n",
       "      <td>135</td>\n",
       "    </tr>\n",
       "    <tr>\n",
       "      <th>136</th>\n",
       "      <td>2021-11-14</td>\n",
       "      <td>339</td>\n",
       "      <td>4250855</td>\n",
       "      <td>9018</td>\n",
       "      <td>503</td>\n",
       "      <td>4098178</td>\n",
       "      <td>16</td>\n",
       "      <td>143659</td>\n",
       "      <td>5.826000</td>\n",
       "      <td>136</td>\n",
       "    </tr>\n",
       "  </tbody>\n",
       "</table>\n",
       "<p>137 rows × 10 columns</p>\n",
       "</div>"
      ],
      "text/plain": [
       "        Tanggal  Kasus_harian  Total_kasus  Kasus_aktif  Sembuh_baru   Sembuh  \\\n",
       "0    2021-07-01         24836      2203108       253826         9874  1890287   \n",
       "1    2021-07-02         25830      2228938       267539        11578  1901865   \n",
       "2    2021-07-03         27913      2256851       281677        13282  1915147   \n",
       "3    2021-07-04         27233      2284084       295228        13127  1928274   \n",
       "4    2021-07-05         29745      2313829       309999        14416  1942690   \n",
       "..          ...           ...          ...          ...          ...      ...   \n",
       "132  2021-11-10           480      4249323         9537          531  4096194   \n",
       "133  2021-11-11           435      4249758         9486          470  4096664   \n",
       "134  2021-11-12           399      4250157         9305          560  4097224   \n",
       "135  2021-11-13           359      4250516         9198          451  4097675   \n",
       "136  2021-11-14           339      4250855         9018          503  4098178   \n",
       "\n",
       "     Meninggal_baru  Meninggal_Dunia  cases_norm  days  \n",
       "0               504            58995   10.120049     0  \n",
       "1               539            59534   10.159292     1  \n",
       "2               493            60027   10.236848     2  \n",
       "3               555            60582   10.212185     3  \n",
       "4               558            61140   10.300416     4  \n",
       "..              ...              ...         ...   ...  \n",
       "132              14           143592    6.173786   132  \n",
       "133              16           143608    6.075346   133  \n",
       "134              20           143628    5.988961   134  \n",
       "135              15           143643    5.883322   135  \n",
       "136              16           143659    5.826000   136  \n",
       "\n",
       "[137 rows x 10 columns]"
      ]
     },
     "execution_count": 7,
     "metadata": {},
     "output_type": "execute_result"
    }
   ],
   "source": [
    "'''Pada kesempatan kali ini kita akan memanfaatkan apply() dan lambda().\n",
    "Kita akan masukkan pada sebuah kolom baru bernama days. lalu kita tampilkan dataframe terbaru\n",
    "Hint\n",
    "...['days'] = ....apply(lambda x: pd.Timedelta(pd.to_datetime(x) - ...).days)\n",
    "'''\n",
    "\n",
    "df_covid['days'] = df_covid['Tanggal'].apply(lambda x: pd.Timedelta(pd.to_datetime(x) - default_date).days)\n",
    "df_covid"
   ]
  },
  {
   "cell_type": "markdown",
   "metadata": {
    "id": "7LSmBo3p5v-9"
   },
   "source": [
    "Langkah terakhir,\n",
    "Kita akan membuat copy dari data yang kolom cases_norm dan days ke dalam dataframe baru."
   ]
  },
  {
   "cell_type": "code",
   "execution_count": 8,
   "metadata": {
    "colab": {
     "base_uri": "https://localhost:8080/",
     "height": 423
    },
    "id": "HQO-EXUq5v-9",
    "outputId": "f5f0d31e-e36e-4eeb-b097-d441234f6349"
   },
   "outputs": [
    {
     "data": {
      "text/html": [
       "<div>\n",
       "<style scoped>\n",
       "    .dataframe tbody tr th:only-of-type {\n",
       "        vertical-align: middle;\n",
       "    }\n",
       "\n",
       "    .dataframe tbody tr th {\n",
       "        vertical-align: top;\n",
       "    }\n",
       "\n",
       "    .dataframe thead th {\n",
       "        text-align: right;\n",
       "    }\n",
       "</style>\n",
       "<table border=\"1\" class=\"dataframe\">\n",
       "  <thead>\n",
       "    <tr style=\"text-align: right;\">\n",
       "      <th></th>\n",
       "      <th>days</th>\n",
       "      <th>cases_norm</th>\n",
       "    </tr>\n",
       "  </thead>\n",
       "  <tbody>\n",
       "    <tr>\n",
       "      <th>0</th>\n",
       "      <td>0</td>\n",
       "      <td>10.120049</td>\n",
       "    </tr>\n",
       "    <tr>\n",
       "      <th>1</th>\n",
       "      <td>1</td>\n",
       "      <td>10.159292</td>\n",
       "    </tr>\n",
       "    <tr>\n",
       "      <th>2</th>\n",
       "      <td>2</td>\n",
       "      <td>10.236848</td>\n",
       "    </tr>\n",
       "    <tr>\n",
       "      <th>3</th>\n",
       "      <td>3</td>\n",
       "      <td>10.212185</td>\n",
       "    </tr>\n",
       "    <tr>\n",
       "      <th>4</th>\n",
       "      <td>4</td>\n",
       "      <td>10.300416</td>\n",
       "    </tr>\n",
       "    <tr>\n",
       "      <th>...</th>\n",
       "      <td>...</td>\n",
       "      <td>...</td>\n",
       "    </tr>\n",
       "    <tr>\n",
       "      <th>132</th>\n",
       "      <td>132</td>\n",
       "      <td>6.173786</td>\n",
       "    </tr>\n",
       "    <tr>\n",
       "      <th>133</th>\n",
       "      <td>133</td>\n",
       "      <td>6.075346</td>\n",
       "    </tr>\n",
       "    <tr>\n",
       "      <th>134</th>\n",
       "      <td>134</td>\n",
       "      <td>5.988961</td>\n",
       "    </tr>\n",
       "    <tr>\n",
       "      <th>135</th>\n",
       "      <td>135</td>\n",
       "      <td>5.883322</td>\n",
       "    </tr>\n",
       "    <tr>\n",
       "      <th>136</th>\n",
       "      <td>136</td>\n",
       "      <td>5.826000</td>\n",
       "    </tr>\n",
       "  </tbody>\n",
       "</table>\n",
       "<p>137 rows × 2 columns</p>\n",
       "</div>"
      ],
      "text/plain": [
       "     days  cases_norm\n",
       "0       0   10.120049\n",
       "1       1   10.159292\n",
       "2       2   10.236848\n",
       "3       3   10.212185\n",
       "4       4   10.300416\n",
       "..    ...         ...\n",
       "132   132    6.173786\n",
       "133   133    6.075346\n",
       "134   134    5.988961\n",
       "135   135    5.883322\n",
       "136   136    5.826000\n",
       "\n",
       "[137 rows x 2 columns]"
      ]
     },
     "execution_count": 8,
     "metadata": {},
     "output_type": "execute_result"
    }
   ],
   "source": [
    "#isikan pada sel ini dataframe terbaru dan tampilkan\n",
    "data = df_covid[['days','cases_norm']]\n",
    "data"
   ]
  },
  {
   "cell_type": "markdown",
   "metadata": {
    "id": "TtvsRqgd5v--"
   },
   "source": [
    "4. Data Processing\n",
    "\n",
    "Sekarang kita akan memproses data kita. Terdapat dua bagian, pertama adalah pembuatan model dan kedua adalah evaluasi sederhana."
   ]
  },
  {
   "cell_type": "code",
   "execution_count": 9,
   "metadata": {
    "colab": {
     "base_uri": "https://localhost:8080/"
    },
    "id": "_MwCVM9s5v--",
    "outputId": "62717a1d-5734-43da-bbe4-0d39b44272f7"
   },
   "outputs": [
    {
     "name": "stdout",
     "output_type": "stream",
     "text": [
      "dimensi dari X_train : 109\n",
      "dimensi dari y_train : 109\n",
      "dimensi dari X_test : 28\n",
      "dimensi dari y_test : 28\n"
     ]
    }
   ],
   "source": [
    "#pembuatan model\n",
    "'''import/tambahkan semua package/library pada sel paling atas(terkait library)\n",
    "pada bagian kali ini kita akan mengubah days -- sumbu x dan cases_norm  -- sumbu y.\n",
    "masukkan kedua kolom tersebut pada variabel yang bersesuaian. ubah menjadi bentuk numpy array dengan np.array()\n",
    "Hint: gunakan .reshape((-1, 1)) pada sumbu x saat mengubah menjadi np.array agar mengubah dimensi array tersebut.\n",
    "kita bagi menjadi data training dan test dengan test_size = 0.2\n",
    "'''\n",
    "x = np.array(data['days']).reshape((-1, 1))\n",
    "y = np.array(data['cases_norm'])\n",
    "\n",
    "X_train, X_test, y_train, y_test = train_test_split(x, y, random_state=42, test_size = 0.2)\n",
    "\n",
    "print(f'dimensi dari X_train : {len(X_train)}')\n",
    "print(f'dimensi dari y_train : {len(y_train)}')\n",
    "print(f'dimensi dari X_test : {len(X_test)}')\n",
    "print(f'dimensi dari y_test : {len(y_test)}')"
   ]
  },
  {
   "cell_type": "markdown",
   "metadata": {
    "id": "Weq2LkrT5v--"
   },
   "source": [
    "Sekarang kita akan membuat model kita. Kita akan menggunakan polynomial regression. perbedaannya dengan linear regression hanya pada bagian sebelum di set ke model linear regression kita akan ubah dulu dalam bentuk polynomial."
   ]
  },
  {
   "cell_type": "code",
   "execution_count": 10,
   "metadata": {
    "colab": {
     "base_uri": "https://localhost:8080/",
     "height": 74
    },
    "id": "KIhbN0Gv5v-_",
    "outputId": "5669f176-d4a6-42f9-8fa0-75a483a9cd66"
   },
   "outputs": [
    {
     "data": {
      "text/html": [
       "<style>#sk-container-id-1 {color: black;background-color: white;}#sk-container-id-1 pre{padding: 0;}#sk-container-id-1 div.sk-toggleable {background-color: white;}#sk-container-id-1 label.sk-toggleable__label {cursor: pointer;display: block;width: 100%;margin-bottom: 0;padding: 0.3em;box-sizing: border-box;text-align: center;}#sk-container-id-1 label.sk-toggleable__label-arrow:before {content: \"▸\";float: left;margin-right: 0.25em;color: #696969;}#sk-container-id-1 label.sk-toggleable__label-arrow:hover:before {color: black;}#sk-container-id-1 div.sk-estimator:hover label.sk-toggleable__label-arrow:before {color: black;}#sk-container-id-1 div.sk-toggleable__content {max-height: 0;max-width: 0;overflow: hidden;text-align: left;background-color: #f0f8ff;}#sk-container-id-1 div.sk-toggleable__content pre {margin: 0.2em;color: black;border-radius: 0.25em;background-color: #f0f8ff;}#sk-container-id-1 input.sk-toggleable__control:checked~div.sk-toggleable__content {max-height: 200px;max-width: 100%;overflow: auto;}#sk-container-id-1 input.sk-toggleable__control:checked~label.sk-toggleable__label-arrow:before {content: \"▾\";}#sk-container-id-1 div.sk-estimator input.sk-toggleable__control:checked~label.sk-toggleable__label {background-color: #d4ebff;}#sk-container-id-1 div.sk-label input.sk-toggleable__control:checked~label.sk-toggleable__label {background-color: #d4ebff;}#sk-container-id-1 input.sk-hidden--visually {border: 0;clip: rect(1px 1px 1px 1px);clip: rect(1px, 1px, 1px, 1px);height: 1px;margin: -1px;overflow: hidden;padding: 0;position: absolute;width: 1px;}#sk-container-id-1 div.sk-estimator {font-family: monospace;background-color: #f0f8ff;border: 1px dotted black;border-radius: 0.25em;box-sizing: border-box;margin-bottom: 0.5em;}#sk-container-id-1 div.sk-estimator:hover {background-color: #d4ebff;}#sk-container-id-1 div.sk-parallel-item::after {content: \"\";width: 100%;border-bottom: 1px solid gray;flex-grow: 1;}#sk-container-id-1 div.sk-label:hover label.sk-toggleable__label {background-color: #d4ebff;}#sk-container-id-1 div.sk-serial::before {content: \"\";position: absolute;border-left: 1px solid gray;box-sizing: border-box;top: 0;bottom: 0;left: 50%;z-index: 0;}#sk-container-id-1 div.sk-serial {display: flex;flex-direction: column;align-items: center;background-color: white;padding-right: 0.2em;padding-left: 0.2em;position: relative;}#sk-container-id-1 div.sk-item {position: relative;z-index: 1;}#sk-container-id-1 div.sk-parallel {display: flex;align-items: stretch;justify-content: center;background-color: white;position: relative;}#sk-container-id-1 div.sk-item::before, #sk-container-id-1 div.sk-parallel-item::before {content: \"\";position: absolute;border-left: 1px solid gray;box-sizing: border-box;top: 0;bottom: 0;left: 50%;z-index: -1;}#sk-container-id-1 div.sk-parallel-item {display: flex;flex-direction: column;z-index: 1;position: relative;background-color: white;}#sk-container-id-1 div.sk-parallel-item:first-child::after {align-self: flex-end;width: 50%;}#sk-container-id-1 div.sk-parallel-item:last-child::after {align-self: flex-start;width: 50%;}#sk-container-id-1 div.sk-parallel-item:only-child::after {width: 0;}#sk-container-id-1 div.sk-dashed-wrapped {border: 1px dashed gray;margin: 0 0.4em 0.5em 0.4em;box-sizing: border-box;padding-bottom: 0.4em;background-color: white;}#sk-container-id-1 div.sk-label label {font-family: monospace;font-weight: bold;display: inline-block;line-height: 1.2em;}#sk-container-id-1 div.sk-label-container {text-align: center;}#sk-container-id-1 div.sk-container {/* jupyter's `normalize.less` sets `[hidden] { display: none; }` but bootstrap.min.css set `[hidden] { display: none !important; }` so we also need the `!important` here to be able to override the default hidden behavior on the sphinx rendered scikit-learn.org. See: https://github.com/scikit-learn/scikit-learn/issues/21755 */display: inline-block !important;position: relative;}#sk-container-id-1 div.sk-text-repr-fallback {display: none;}</style><div id=\"sk-container-id-1\" class=\"sk-top-container\"><div class=\"sk-text-repr-fallback\"><pre>LinearRegression()</pre><b>In a Jupyter environment, please rerun this cell to show the HTML representation or trust the notebook. <br />On GitHub, the HTML representation is unable to render, please try loading this page with nbviewer.org.</b></div><div class=\"sk-container\" hidden><div class=\"sk-item\"><div class=\"sk-estimator sk-toggleable\"><input class=\"sk-toggleable__control sk-hidden--visually\" id=\"sk-estimator-id-1\" type=\"checkbox\" checked><label for=\"sk-estimator-id-1\" class=\"sk-toggleable__label sk-toggleable__label-arrow\">LinearRegression</label><div class=\"sk-toggleable__content\"><pre>LinearRegression()</pre></div></div></div></div></div>"
      ],
      "text/plain": [
       "LinearRegression()"
      ]
     },
     "execution_count": 10,
     "metadata": {},
     "output_type": "execute_result"
    }
   ],
   "source": [
    "'''Import modul PolynomialFeatures dari sklearn.preprocessing dan taruh di sel package/library\n",
    "panggil modul linear regression pada sklearn dan tempatkan di sel package/library\n",
    "'''\n",
    "\n",
    "poly_reg = PolynomialFeatures(degree=2)\n",
    "X_poly = poly_reg.fit_transform(X_train)\n",
    "\n",
    "#setelah ini, di bawah, buatlah model linear regression pada seperti biasa.\n",
    "#gunakan X_poly untuk menggantikan X_train pada sesi training model linear regression pasangkan dengan y_train\n",
    "\n",
    "pol_reg = LinearRegression()\n",
    "pol_reg.fit(X_poly, y_train)"
   ]
  },
  {
   "cell_type": "markdown",
   "metadata": {
    "id": "v8BpmbnS5v-_"
   },
   "source": [
    "Selanjutkan kita akan melakukan evaluasi model kita dengan membuat prediksi dari x_test kita lalu bandingkan hasilnya dengan y_test. cari nilai r_square."
   ]
  },
  {
   "cell_type": "code",
   "execution_count": 11,
   "metadata": {
    "id": "mmlVGB-m5v-_"
   },
   "outputs": [],
   "source": [
    "#pertama mari kita prediksi kan seluruh data x_test.\n",
    "'''kita akan gunakan poly_reg.fit_transform untuk mengubah data kita menjadi bentuk polynomialnya\n",
    "'''\n",
    "\n",
    "poly_x_test = poly_reg.fit_transform(X_test)\n",
    "\n",
    "#setelah itu  buat variabel y_pred dengan menggunakan metode predict dan tampilkan y_pred\n",
    "y_pred = pol_reg.predict(poly_x_test)"
   ]
  },
  {
   "cell_type": "code",
   "execution_count": 12,
   "metadata": {
    "colab": {
     "base_uri": "https://localhost:8080/"
    },
    "id": "CsOR6DST5v_A",
    "outputId": "81b2358e-e6c1-4ff7-bc54-ff1bd06283d8"
   },
   "outputs": [
    {
     "name": "stdout",
     "output_type": "stream",
     "text": [
      "The model performance for testing set\n",
      "--------------------------------------\n",
      "R2 score is 0.9576332489268025\n"
     ]
    }
   ],
   "source": [
    "'''Evaluasi model kita dengan fungsi di bawah ini\n",
    "import metrics dari sklearn dan taruh di sel atas\n",
    "'''\n",
    "r2 = r2_score(y_test, y_pred)\n",
    "\n",
    "print(\"The model performance for testing set\")\n",
    "print(\"--------------------------------------\")\n",
    "print('R2 score is {}'.format(r2))"
   ]
  },
  {
   "cell_type": "markdown",
   "metadata": {
    "id": "Qm5ruNNU5v_A"
   },
   "source": [
    "0.95 adalah angka yang baik. Sekarang kita lanjut untuk membuat prediksi data kita.\n",
    "Ingat, di awal kita ingin memprediksi data kita 30 hari semenjak data terakhir.\n",
    "buat numpy array dari 137 - 166"
   ]
  },
  {
   "cell_type": "code",
   "execution_count": 13,
   "metadata": {
    "id": "ioQlOplB5v_A"
   },
   "outputs": [
    {
     "data": {
      "text/plain": [
       "array([137, 138, 139, 140, 141, 142, 143, 144, 145, 146, 147, 148, 149,\n",
       "       150, 151, 152, 153, 154, 155, 156, 157, 158, 159, 160, 161, 162,\n",
       "       163, 164, 165, 166])"
      ]
     },
     "execution_count": 13,
     "metadata": {},
     "output_type": "execute_result"
    }
   ],
   "source": [
    "#buat variabel numpy array yang diminta dan tampilkan. beri nama variabelnya predict_date\n",
    "pred_date = np.array(range(137,167))\n",
    "pred_date"
   ]
  },
  {
   "cell_type": "code",
   "execution_count": 14,
   "metadata": {
    "id": "tij9FrGM5v_B"
   },
   "outputs": [
    {
     "data": {
      "text/plain": [
       "array([[1.0000e+00, 1.3700e+02, 1.8769e+04],\n",
       "       [1.0000e+00, 1.3800e+02, 1.9044e+04],\n",
       "       [1.0000e+00, 1.3900e+02, 1.9321e+04],\n",
       "       [1.0000e+00, 1.4000e+02, 1.9600e+04],\n",
       "       [1.0000e+00, 1.4100e+02, 1.9881e+04],\n",
       "       [1.0000e+00, 1.4200e+02, 2.0164e+04],\n",
       "       [1.0000e+00, 1.4300e+02, 2.0449e+04],\n",
       "       [1.0000e+00, 1.4400e+02, 2.0736e+04],\n",
       "       [1.0000e+00, 1.4500e+02, 2.1025e+04],\n",
       "       [1.0000e+00, 1.4600e+02, 2.1316e+04],\n",
       "       [1.0000e+00, 1.4700e+02, 2.1609e+04],\n",
       "       [1.0000e+00, 1.4800e+02, 2.1904e+04],\n",
       "       [1.0000e+00, 1.4900e+02, 2.2201e+04],\n",
       "       [1.0000e+00, 1.5000e+02, 2.2500e+04],\n",
       "       [1.0000e+00, 1.5100e+02, 2.2801e+04],\n",
       "       [1.0000e+00, 1.5200e+02, 2.3104e+04],\n",
       "       [1.0000e+00, 1.5300e+02, 2.3409e+04],\n",
       "       [1.0000e+00, 1.5400e+02, 2.3716e+04],\n",
       "       [1.0000e+00, 1.5500e+02, 2.4025e+04],\n",
       "       [1.0000e+00, 1.5600e+02, 2.4336e+04],\n",
       "       [1.0000e+00, 1.5700e+02, 2.4649e+04],\n",
       "       [1.0000e+00, 1.5800e+02, 2.4964e+04],\n",
       "       [1.0000e+00, 1.5900e+02, 2.5281e+04],\n",
       "       [1.0000e+00, 1.6000e+02, 2.5600e+04],\n",
       "       [1.0000e+00, 1.6100e+02, 2.5921e+04],\n",
       "       [1.0000e+00, 1.6200e+02, 2.6244e+04],\n",
       "       [1.0000e+00, 1.6300e+02, 2.6569e+04],\n",
       "       [1.0000e+00, 1.6400e+02, 2.6896e+04],\n",
       "       [1.0000e+00, 1.6500e+02, 2.7225e+04],\n",
       "       [1.0000e+00, 1.6600e+02, 2.7556e+04]])"
      ]
     },
     "execution_count": 14,
     "metadata": {},
     "output_type": "execute_result"
    }
   ],
   "source": [
    "#lakukan prediksi dengan berbasis pada predict_date. manfaatkan kembali poly_reg.fit_transform dan pol_reg.predict.\n",
    "#beri nama variabelnya predict_cases dan tampilkan\n",
    "\n",
    "poly_pred_date = poly_reg.fit_transform(pred_date.reshape(-1, 1))\n",
    "poly_pred_date"
   ]
  },
  {
   "cell_type": "code",
   "execution_count": 15,
   "metadata": {},
   "outputs": [
    {
     "data": {
      "text/plain": [
       "array([205.37226397, 193.71450443, 182.67320778, 172.21855325,\n",
       "       162.32199962, 152.95623949, 144.09515464, 135.7137726 ,\n",
       "       127.78822426, 120.29570268, 113.214423  , 106.52358348,\n",
       "       100.20332764,  94.23470747,  88.59964777,  83.28091155,\n",
       "        78.26206646,  73.52745227,  69.06214946,  64.85194866,\n",
       "        60.88332123,  57.14339077,  53.61990553,  50.30121184,\n",
       "        47.17622845,  44.23442168,  41.46578158,  38.86079883,\n",
       "        36.41044258,  34.10613905])"
      ]
     },
     "execution_count": 15,
     "metadata": {},
     "output_type": "execute_result"
    }
   ],
   "source": [
    "#setelah itu  buat variabel y_pred dengan menggunakan metode predict dan tampilkan y_pred\n",
    "pred_cases = np.exp(pol_reg.predict(poly_pred_date)) #exp karena hasil predict berasal dari data yang berskala log\n",
    "pred_cases"
   ]
  },
  {
   "cell_type": "markdown",
   "metadata": {
    "id": "wc54wJuJ5v_B"
   },
   "source": [
    "5. Data Analysis\n",
    "Pada kesempatan kali ini kita akan melakukan analysis. Pertama dengan membuat grafik 30 hari kedepan. lalu menganalisis grafik dan model kita."
   ]
  },
  {
   "cell_type": "code",
   "execution_count": 16,
   "metadata": {
    "id": "rlrKLmpg5v_B"
   },
   "outputs": [
    {
     "data": {
      "image/png": "[encoded data removed]",
      "text/plain": [
       "<Figure size 640x480 with 1 Axes>"
      ]
     },
     "metadata": {},
     "output_type": "display_data"
    }
   ],
   "source": [
    "#Disini kita akan melakukan plot grafik predict_date = x dan predict case = y\n",
    "#Jangan lupa import matplotlib pada sel library/package\n",
    "\n",
    "plt.scatter(pred_date,pred_cases)\n",
    "plt.title('Prediksi kasus covid x hari setelah 14 Nov 2021')\n",
    "plt.xlabel('Hari setelah 14 Nov')\n",
    "plt.ylabel('Jumlah kasus')\n",
    "plt.show()"
   ]
  },
  {
   "cell_type": "markdown",
   "metadata": {},
   "source": [
    "### Kesimpulan"
   ]
  },
  {
   "cell_type": "code",
   "execution_count": 19,
   "metadata": {},
   "outputs": [
    {
     "data": {
      "text/plain": [
       "Timestamp('2022-04-23 00:00:00')"
      ]
     },
     "execution_count": 19,
     "metadata": {},
     "output_type": "execute_result"
    }
   ],
   "source": [
    "pd.to_datetime(df_covid.iloc[len(df_covid)-1]['Tanggal']) + pd.DateOffset(days=160)"
   ]
  },
  {
   "cell_type": "markdown",
   "metadata": {},
   "source": [
    "Dapat disimpulkan bahwa jumlah kasus terus menurun secara logaritmik, hingga mencapai kurang dari 50 kasus sekitar 160 hari setelah tanggal 15 November 2021, atau pada tanggal 23 April 2022."
   ]
  }
 ],
 "metadata": {
  "colab": {
   "provenance": []
  },
  "interpreter": {
   "hash": "b02d93efda564da1915d42b0288c26f05ac833e7645184a564f32e638d57cc3e"
  },
  "kernelspec": {
   "display_name": "Python 3 (ipykernel)",
   "language": "python",
   "name": "python3"
  },
  "language_info": {
   "codemirror_mode": {
    "name": "ipython",
    "version": 3
   },
   "file_extension": ".py",
   "mimetype": "text/x-python",
   "name": "python",
   "nbconvert_exporter": "python",
   "pygments_lexer": "ipython3",
   "version": "3.10.11"
  }
 },
 "nbformat": 4,
 "nbformat_minor": 1
}
