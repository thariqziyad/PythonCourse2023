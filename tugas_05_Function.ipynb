{
 "cells": [
  {
   "cell_type": "markdown",
   "metadata": {
    "id": "jN6OTDumrLvV"
   },
   "source": [
    "1. Buatlah sebuah fungsi di python yang memerlukan dua argument, nama dan usia. Lalu menampilkan dua argument tersebut saat fungsi dipanggil"
   ]
  },
  {
   "cell_type": "code",
   "execution_count": 1,
   "metadata": {
    "id": "1yFYKQhBrLvd"
   },
   "outputs": [
    {
     "name": "stdout",
     "output_type": "stream",
     "text": [
      "Zi 27\n"
     ]
    }
   ],
   "source": [
    "#kerjakan soal no. 1 pada sel ini\n",
    "\n",
    "#contoh pemanggilan fungsi\n",
    "#func1(\"Rina\", 20)\n",
    "\n",
    "#output\n",
    "#Rina 20\n",
    "\n",
    "def func1(name,age):\n",
    "    print(name,age)\n",
    "    \n",
    "func1(\"Zi\",27)"
   ]
  },
  {
   "cell_type": "markdown",
   "metadata": {
    "id": "FNW5VR45rLvf"
   },
   "source": [
    "2. Buatlah fungsi yang bisa melakukan print semua parameter/argument yang menjadi inputan. Fungsi tersebut harus bisa menerima berapapun argument yang dimasukkan tanpa error. "
   ]
  },
  {
   "cell_type": "code",
   "execution_count": 3,
   "metadata": {
    "id": "1MbGVT5IrLvf"
   },
   "outputs": [
    {
     "name": "stdout",
     "output_type": "stream",
     "text": [
      "1\n",
      "2\n",
      "3\n",
      "4\n",
      "5\n"
     ]
    }
   ],
   "source": [
    "#kerjakan soal no. 2 pada sel ini\n",
    "\n",
    "#contoh pemanggilan fungsi\n",
    "#func2(1,2,3)\n",
    "\n",
    "'''\n",
    "output\n",
    "1\n",
    "2\n",
    "3\n",
    "'''\n",
    "\n",
    "#contoh pemanggilan fungsi\n",
    "#func1(1,2,3,4,5,6)\n",
    "\n",
    "'''\n",
    "output\n",
    "1\n",
    "2\n",
    "3\n",
    "4\n",
    "5\n",
    "6\n",
    "'''\n",
    "\n",
    "def func2(*x):\n",
    "    for i in x:\n",
    "        print(i)\n",
    "        \n",
    "func2(1,2,3,4,5)"
   ]
  },
  {
   "cell_type": "markdown",
   "metadata": {
    "id": "wFVbYs4TrLvg"
   },
   "source": [
    "3. Buatlah sebuah fungsi yang dapat mencari jumlah total dari anggota pada list. Syarat pengerjaan:\n",
    "     - tanpa menggunakan loop/iterasi\n",
    "     - manfaatkan fungsi lambda\n",
    "\n",
    "list_nilai = [23,17,5,8,25,15]"
   ]
  },
  {
   "cell_type": "code",
   "execution_count": 5,
   "metadata": {
    "id": "lZk2M-v8rLvg"
   },
   "outputs": [
    {
     "name": "stdout",
     "output_type": "stream",
     "text": [
      "93\n"
     ]
    }
   ],
   "source": [
    "#kerjakan soal no. 3 pada sel ini\n",
    "\n",
    "#contoh pemanggilan fungsi\n",
    "#func3(list_nilai)\n",
    "\n",
    "#output\n",
    "#93\n",
    "\n",
    "from functools import reduce\n",
    "list_nilai = [23,17,5,8,25,15]\n",
    "\n",
    "hasil=reduce(lambda a,b:a+b,list_nilai)\n",
    "\n",
    "print(hasil)"
   ]
  },
  {
   "cell_type": "markdown",
   "metadata": {
    "id": "dYtJlOUfrLvh"
   },
   "source": [
    "4. Buatlah sebuah fungsi yang dapat mencari nilai yang lebih besar/sama dengan 80 dari anggota pada list. Syarat pengerjaan:\n",
    "     - tanpa menggunakan loop/iterasi\n",
    "     - manfaatkan fungsi lambda\n",
    "     - ouput merupakan list\n",
    "\n",
    "nilai_siswa = [67,89,80,67,25,92]"
   ]
  },
  {
   "cell_type": "code",
   "execution_count": 20,
   "metadata": {
    "id": "tHLH5HJvrLvi"
   },
   "outputs": [
    {
     "name": "stdout",
     "output_type": "stream",
     "text": [
      "[89, 80, 92]\n"
     ]
    }
   ],
   "source": [
    "#kerjakan soal no. 4 pada sel ini\n",
    "\n",
    "#contoh pemanggilan fungsi\n",
    "#func4(nilai_siswa)\n",
    "\n",
    "#output\n",
    "#[89,80,92]\n",
    "\n",
    "nilai_siswa = [67,89,80,67,25,92]\n",
    "\n",
    "hasil = list(filter(lambda x:x>=80,nilai_siswa))\n",
    "print(hasil)"
   ]
  },
  {
   "cell_type": "markdown",
   "metadata": {
    "id": "A7g_FZu8rLvj"
   },
   "source": [
    "5. Buatlah sebuah fungsi untuk mengecek apakah suatu string palindrom atau bukan\n",
    "\n",
    "kata_1 = \"makam\"\n",
    "kata_2 = \"makan\""
   ]
  },
  {
   "cell_type": "code",
   "execution_count": 24,
   "metadata": {
    "id": "i16Mef9BrLvk"
   },
   "outputs": [
    {
     "name": "stdout",
     "output_type": "stream",
     "text": [
      "makam  merupakan palindrom\n",
      "makan  bukan palindrom\n",
      "tacocat  merupakan palindrom\n"
     ]
    }
   ],
   "source": [
    "#kerjakan soal no.5 pada sel ini\n",
    "\n",
    "#contoh pemanggilan fungsi\n",
    "#test_palindrom(kata_1)\n",
    "#test_palindrom(kata_2)\n",
    "\n",
    "#output\n",
    "#makam merupakan palindrom\n",
    "#makan bukan merupakan palindrom\n",
    "kata_1 = \"makam\" \n",
    "kata_2 = \"makan\"\n",
    "\n",
    "def test_pal(word):\n",
    "    i=1\n",
    "    res=[]\n",
    "    while i-1<len(word):\n",
    "        res.append(word[i-1]==word[-i])\n",
    "        i+=1\n",
    "    print(word,\" merupakan palindrom\") if all(res) else print(word,\" bukan palindrom\")\n",
    "\n",
    "test_pal(kata_1)\n",
    "test_pal(kata_2)\n",
    "test_pal(\"tacocat\")"
   ]
  },
  {
   "cell_type": "code",
   "execution_count": null,
   "metadata": {},
   "outputs": [],
   "source": []
  }
 ],
 "metadata": {
  "colab": {
   "name": "Tugas_4.ipynb",
   "provenance": []
  },
  "kernelspec": {
   "display_name": "Python 3 (ipykernel)",
   "language": "python",
   "name": "python3"
  },
  "language_info": {
   "codemirror_mode": {
    "name": "ipython",
    "version": 3
   },
   "file_extension": ".py",
   "mimetype": "text/x-python",
   "name": "python",
   "nbconvert_exporter": "python",
   "pygments_lexer": "ipython3",
   "version": "3.10.11"
  }
 },
 "nbformat": 4,
 "nbformat_minor": 1
}
