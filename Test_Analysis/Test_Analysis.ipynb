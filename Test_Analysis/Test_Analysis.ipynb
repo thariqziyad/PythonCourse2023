{
  "nbformat": 4,
  "nbformat_minor": 0,
  "metadata": {
    "colab": {
      "provenance": [],
      "authorship_tag": "ABX9TyOOVAy6/dBEOor7Q86g5MtY",
      "include_colab_link": true
    },
    "kernelspec": {
      "name": "python3",
      "display_name": "Python 3"
    },
    "language_info": {
      "name": "python"
    }
  },
  "cells": [
    {
      "cell_type": "markdown",
      "metadata": {
        "id": "view-in-github",
        "colab_type": "text"
      },
      "source": [
        "<a href=\"https://colab.research.google.com/github/thariqziyad/PythonCourse2023/blob/main/Test_Analysis.ipynb\" target=\"_parent\"><img src=\"https://colab.research.google.com/assets/colab-badge.svg\" alt=\"Open In Colab\"/></a>"
      ]
    },
    {
      "cell_type": "markdown",
      "source": [
        "A Notebook in which I try to apply what I've learned in the online Data Science course from [PKS Digital School](https://pksdigitalschool.id/)."
      ],
      "metadata": {
        "id": "R7DwMIObWjOS"
      }
    },
    {
      "cell_type": "code",
      "execution_count": null,
      "metadata": {
        "id": "dd3k6h9iWI3e"
      },
      "outputs": [],
      "source": []
    }
  ]
}
